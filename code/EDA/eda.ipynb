{
 "cells": [
  {
   "cell_type": "code",
   "execution_count": 145,
   "metadata": {},
   "outputs": [],
   "source": [
    "import pandas as pd\n",
    "import numpy as np\n",
    "from sklearn.impute import KNNImputer\n",
    "import nltk\n",
    "from nltk.corpus import stopwords\n",
    "from sklearn.feature_extraction.text import CountVectorizer, TfidfVectorizer\n",
    "from sklearn.pipeline import Pipeline, FeatureUnion\n",
    "from sklearn.compose import ColumnTransformer, make_column_transformer\n",
    "from sklearn.preprocessing import FunctionTransformer\n",
    "\n",
    "from sklearn.base import clone"
   ]
  },
  {
   "cell_type": "code",
   "execution_count": 146,
   "metadata": {},
   "outputs": [],
   "source": [
    "credits = pd.read_csv('../../data/original_data/credits.csv')\n",
    "titles = pd.read_csv('../../data/original_data/titles.csv')"
   ]
  },
  {
   "cell_type": "code",
   "execution_count": 147,
   "metadata": {},
   "outputs": [
    {
     "data": {
      "text/html": [
       "<div>\n",
       "<style scoped>\n",
       "    .dataframe tbody tr th:only-of-type {\n",
       "        vertical-align: middle;\n",
       "    }\n",
       "\n",
       "    .dataframe tbody tr th {\n",
       "        vertical-align: top;\n",
       "    }\n",
       "\n",
       "    .dataframe thead th {\n",
       "        text-align: right;\n",
       "    }\n",
       "</style>\n",
       "<table border=\"1\" class=\"dataframe\">\n",
       "  <thead>\n",
       "    <tr style=\"text-align: right;\">\n",
       "      <th></th>\n",
       "      <th>person_id</th>\n",
       "      <th>id</th>\n",
       "      <th>name</th>\n",
       "      <th>character</th>\n",
       "      <th>role</th>\n",
       "    </tr>\n",
       "  </thead>\n",
       "  <tbody>\n",
       "    <tr>\n",
       "      <th>0</th>\n",
       "      <td>60017</td>\n",
       "      <td>tm155702</td>\n",
       "      <td>Judy Garland</td>\n",
       "      <td>Dorothy Gale</td>\n",
       "      <td>ACTOR</td>\n",
       "    </tr>\n",
       "    <tr>\n",
       "      <th>1</th>\n",
       "      <td>53496</td>\n",
       "      <td>tm155702</td>\n",
       "      <td>Ray Bolger</td>\n",
       "      <td>Hunk / Scarecrow</td>\n",
       "      <td>ACTOR</td>\n",
       "    </tr>\n",
       "    <tr>\n",
       "      <th>2</th>\n",
       "      <td>79549</td>\n",
       "      <td>tm155702</td>\n",
       "      <td>Jack Haley</td>\n",
       "      <td>Hickory / Tin Man</td>\n",
       "      <td>ACTOR</td>\n",
       "    </tr>\n",
       "    <tr>\n",
       "      <th>3</th>\n",
       "      <td>79548</td>\n",
       "      <td>tm155702</td>\n",
       "      <td>Bert Lahr</td>\n",
       "      <td>Zeke / Cowardly Lion</td>\n",
       "      <td>ACTOR</td>\n",
       "    </tr>\n",
       "    <tr>\n",
       "      <th>4</th>\n",
       "      <td>60995</td>\n",
       "      <td>tm155702</td>\n",
       "      <td>Margaret Hamilton</td>\n",
       "      <td>Elmira Gulch / Wicked Witch of the West</td>\n",
       "      <td>ACTOR</td>\n",
       "    </tr>\n",
       "  </tbody>\n",
       "</table>\n",
       "</div>"
      ],
      "text/plain": [
       "   person_id        id               name  \\\n",
       "0      60017  tm155702       Judy Garland   \n",
       "1      53496  tm155702         Ray Bolger   \n",
       "2      79549  tm155702         Jack Haley   \n",
       "3      79548  tm155702          Bert Lahr   \n",
       "4      60995  tm155702  Margaret Hamilton   \n",
       "\n",
       "                                 character   role  \n",
       "0                             Dorothy Gale  ACTOR  \n",
       "1                         Hunk / Scarecrow  ACTOR  \n",
       "2                        Hickory / Tin Man  ACTOR  \n",
       "3                     Zeke / Cowardly Lion  ACTOR  \n",
       "4  Elmira Gulch / Wicked Witch of the West  ACTOR  "
      ]
     },
     "execution_count": 147,
     "metadata": {},
     "output_type": "execute_result"
    }
   ],
   "source": [
    "credits.head()"
   ]
  },
  {
   "cell_type": "code",
   "execution_count": 148,
   "metadata": {},
   "outputs": [
    {
     "data": {
      "text/html": [
       "<div>\n",
       "<style scoped>\n",
       "    .dataframe tbody tr th:only-of-type {\n",
       "        vertical-align: middle;\n",
       "    }\n",
       "\n",
       "    .dataframe tbody tr th {\n",
       "        vertical-align: top;\n",
       "    }\n",
       "\n",
       "    .dataframe thead th {\n",
       "        text-align: right;\n",
       "    }\n",
       "</style>\n",
       "<table border=\"1\" class=\"dataframe\">\n",
       "  <thead>\n",
       "    <tr style=\"text-align: right;\">\n",
       "      <th></th>\n",
       "      <th>id</th>\n",
       "      <th>title</th>\n",
       "      <th>type</th>\n",
       "      <th>description</th>\n",
       "      <th>release_year</th>\n",
       "      <th>age_certification</th>\n",
       "      <th>runtime</th>\n",
       "      <th>genres</th>\n",
       "      <th>production_countries</th>\n",
       "      <th>seasons</th>\n",
       "      <th>imdb_id</th>\n",
       "      <th>imdb_score</th>\n",
       "      <th>imdb_votes</th>\n",
       "      <th>tmdb_popularity</th>\n",
       "      <th>tmdb_score</th>\n",
       "    </tr>\n",
       "  </thead>\n",
       "  <tbody>\n",
       "    <tr>\n",
       "      <th>0</th>\n",
       "      <td>tm155702</td>\n",
       "      <td>The Wizard of Oz</td>\n",
       "      <td>MOVIE</td>\n",
       "      <td>Young Dorothy finds herself in a magical world...</td>\n",
       "      <td>1939</td>\n",
       "      <td>G</td>\n",
       "      <td>102</td>\n",
       "      <td>['fantasy', 'family']</td>\n",
       "      <td>['US']</td>\n",
       "      <td>NaN</td>\n",
       "      <td>tt0032138</td>\n",
       "      <td>8.1</td>\n",
       "      <td>389774.0</td>\n",
       "      <td>41.442</td>\n",
       "      <td>7.6</td>\n",
       "    </tr>\n",
       "    <tr>\n",
       "      <th>1</th>\n",
       "      <td>tm83648</td>\n",
       "      <td>Citizen Kane</td>\n",
       "      <td>MOVIE</td>\n",
       "      <td>Newspaper magnate, Charles Foster Kane is take...</td>\n",
       "      <td>1941</td>\n",
       "      <td>PG</td>\n",
       "      <td>119</td>\n",
       "      <td>['drama']</td>\n",
       "      <td>['US']</td>\n",
       "      <td>NaN</td>\n",
       "      <td>tt0033467</td>\n",
       "      <td>8.3</td>\n",
       "      <td>433804.0</td>\n",
       "      <td>14.383</td>\n",
       "      <td>8.0</td>\n",
       "    </tr>\n",
       "    <tr>\n",
       "      <th>2</th>\n",
       "      <td>tm77588</td>\n",
       "      <td>Casablanca</td>\n",
       "      <td>MOVIE</td>\n",
       "      <td>In Casablanca, Morocco in December 1941, a cyn...</td>\n",
       "      <td>1942</td>\n",
       "      <td>PG</td>\n",
       "      <td>102</td>\n",
       "      <td>['drama', 'romance', 'war']</td>\n",
       "      <td>['US']</td>\n",
       "      <td>NaN</td>\n",
       "      <td>tt0034583</td>\n",
       "      <td>8.5</td>\n",
       "      <td>558849.0</td>\n",
       "      <td>20.087</td>\n",
       "      <td>8.2</td>\n",
       "    </tr>\n",
       "    <tr>\n",
       "      <th>3</th>\n",
       "      <td>tm82363</td>\n",
       "      <td>The Big Sleep</td>\n",
       "      <td>MOVIE</td>\n",
       "      <td>Private Investigator Philip Marlowe is hired b...</td>\n",
       "      <td>1946</td>\n",
       "      <td>NaN</td>\n",
       "      <td>116</td>\n",
       "      <td>['thriller', 'crime']</td>\n",
       "      <td>['US']</td>\n",
       "      <td>NaN</td>\n",
       "      <td>tt0038355</td>\n",
       "      <td>7.9</td>\n",
       "      <td>84494.0</td>\n",
       "      <td>12.911</td>\n",
       "      <td>7.7</td>\n",
       "    </tr>\n",
       "    <tr>\n",
       "      <th>4</th>\n",
       "      <td>tm84701</td>\n",
       "      <td>The Maltese Falcon</td>\n",
       "      <td>MOVIE</td>\n",
       "      <td>A private detective takes on a case that invol...</td>\n",
       "      <td>1941</td>\n",
       "      <td>NaN</td>\n",
       "      <td>100</td>\n",
       "      <td>['thriller', 'romance', 'crime']</td>\n",
       "      <td>['US']</td>\n",
       "      <td>NaN</td>\n",
       "      <td>tt0033870</td>\n",
       "      <td>8.0</td>\n",
       "      <td>156603.0</td>\n",
       "      <td>12.788</td>\n",
       "      <td>7.8</td>\n",
       "    </tr>\n",
       "  </tbody>\n",
       "</table>\n",
       "</div>"
      ],
      "text/plain": [
       "         id               title   type  \\\n",
       "0  tm155702    The Wizard of Oz  MOVIE   \n",
       "1   tm83648        Citizen Kane  MOVIE   \n",
       "2   tm77588          Casablanca  MOVIE   \n",
       "3   tm82363       The Big Sleep  MOVIE   \n",
       "4   tm84701  The Maltese Falcon  MOVIE   \n",
       "\n",
       "                                         description  release_year  \\\n",
       "0  Young Dorothy finds herself in a magical world...          1939   \n",
       "1  Newspaper magnate, Charles Foster Kane is take...          1941   \n",
       "2  In Casablanca, Morocco in December 1941, a cyn...          1942   \n",
       "3  Private Investigator Philip Marlowe is hired b...          1946   \n",
       "4  A private detective takes on a case that invol...          1941   \n",
       "\n",
       "  age_certification  runtime                            genres  \\\n",
       "0                 G      102             ['fantasy', 'family']   \n",
       "1                PG      119                         ['drama']   \n",
       "2                PG      102       ['drama', 'romance', 'war']   \n",
       "3               NaN      116             ['thriller', 'crime']   \n",
       "4               NaN      100  ['thriller', 'romance', 'crime']   \n",
       "\n",
       "  production_countries  seasons    imdb_id  imdb_score  imdb_votes  \\\n",
       "0               ['US']      NaN  tt0032138         8.1    389774.0   \n",
       "1               ['US']      NaN  tt0033467         8.3    433804.0   \n",
       "2               ['US']      NaN  tt0034583         8.5    558849.0   \n",
       "3               ['US']      NaN  tt0038355         7.9     84494.0   \n",
       "4               ['US']      NaN  tt0033870         8.0    156603.0   \n",
       "\n",
       "   tmdb_popularity  tmdb_score  \n",
       "0           41.442         7.6  \n",
       "1           14.383         8.0  \n",
       "2           20.087         8.2  \n",
       "3           12.911         7.7  \n",
       "4           12.788         7.8  "
      ]
     },
     "execution_count": 148,
     "metadata": {},
     "output_type": "execute_result"
    }
   ],
   "source": [
    "titles.head()"
   ]
  },
  {
   "cell_type": "code",
   "execution_count": 149,
   "metadata": {},
   "outputs": [
    {
     "data": {
      "text/plain": [
       "((66393, 5), (3294, 15))"
      ]
     },
     "execution_count": 149,
     "metadata": {},
     "output_type": "execute_result"
    }
   ],
   "source": [
    "credits.shape, titles.shape"
   ]
  },
  {
   "cell_type": "markdown",
   "metadata": {},
   "source": [
    "# Join CSV's"
   ]
  },
  {
   "cell_type": "code",
   "execution_count": 150,
   "metadata": {},
   "outputs": [],
   "source": [
    "master_df = pd.merge(credits, titles, how='left', on='id')"
   ]
  },
  {
   "cell_type": "code",
   "execution_count": 151,
   "metadata": {},
   "outputs": [
    {
     "data": {
      "text/plain": [
       "person_id                   0\n",
       "id                          0\n",
       "name                        0\n",
       "character                4505\n",
       "role                        0\n",
       "title                       0\n",
       "type                        0\n",
       "description                11\n",
       "release_year                0\n",
       "age_certification       15693\n",
       "runtime                     0\n",
       "genres                      0\n",
       "production_countries        0\n",
       "seasons                 61706\n",
       "imdb_id                  2940\n",
       "imdb_score               3104\n",
       "imdb_votes               3169\n",
       "tmdb_popularity             0\n",
       "tmdb_score                869\n",
       "dtype: int64"
      ]
     },
     "execution_count": 151,
     "metadata": {},
     "output_type": "execute_result"
    }
   ],
   "source": [
    "master_df.isna().sum()"
   ]
  },
  {
   "cell_type": "markdown",
   "metadata": {},
   "source": [
    "# Fix Missing Values"
   ]
  },
  {
   "cell_type": "code",
   "execution_count": 152,
   "metadata": {},
   "outputs": [
    {
     "data": {
      "text/plain": [
       "MOVIE    61706\n",
       "Name: type, dtype: int64"
      ]
     },
     "execution_count": 152,
     "metadata": {},
     "output_type": "execute_result"
    }
   ],
   "source": [
    "master_df[master_df['seasons'].isna()]['type'].value_counts()"
   ]
  },
  {
   "cell_type": "markdown",
   "metadata": {},
   "source": [
    "## character                4505"
   ]
  },
  {
   "cell_type": "code",
   "execution_count": 153,
   "metadata": {},
   "outputs": [
    {
     "data": {
      "text/plain": [
       "Self                      1812\n",
       "Himself                    614\n",
       "Self (archive footage)     395\n",
       "Herself                    289\n",
       "Dancer                     272\n",
       "                          ... \n",
       "Dr. Payson                   1\n",
       "Eva Marie                    1\n",
       "Saudi                        1\n",
       "Lisha                        1\n",
       "Oficial Jaramillo            1\n",
       "Name: character, Length: 41689, dtype: int64"
      ]
     },
     "execution_count": 153,
     "metadata": {},
     "output_type": "execute_result"
    }
   ],
   "source": [
    "master_df['character'].value_counts()               "
   ]
  },
  {
   "cell_type": "code",
   "execution_count": 154,
   "metadata": {},
   "outputs": [
    {
     "data": {
      "text/plain": [
       "DIRECTOR    2774\n",
       "ACTOR       1731\n",
       "Name: role, dtype: int64"
      ]
     },
     "execution_count": 154,
     "metadata": {},
     "output_type": "execute_result"
    }
   ],
   "source": [
    "master_df[master_df['character'].isna()]['role'].value_counts()"
   ]
  },
  {
   "cell_type": "markdown",
   "metadata": {},
   "source": [
    "> It appears that the a large sum of the missing values for character is Director while actor I will explore more"
   ]
  },
  {
   "cell_type": "code",
   "execution_count": 155,
   "metadata": {},
   "outputs": [
    {
     "name": "stderr",
     "output_type": "stream",
     "text": [
      "/var/folders/tc/ghq6k32j7ks17t5xtkhk3sl80000gn/T/ipykernel_17071/1210722993.py:1: UserWarning: Boolean Series key will be reindexed to match DataFrame index.\n",
      "  master_df[master_df['character'].isna()][master_df['role'] == 'ACTOR']\n"
     ]
    },
    {
     "data": {
      "text/html": [
       "<div>\n",
       "<style scoped>\n",
       "    .dataframe tbody tr th:only-of-type {\n",
       "        vertical-align: middle;\n",
       "    }\n",
       "\n",
       "    .dataframe tbody tr th {\n",
       "        vertical-align: top;\n",
       "    }\n",
       "\n",
       "    .dataframe thead th {\n",
       "        text-align: right;\n",
       "    }\n",
       "</style>\n",
       "<table border=\"1\" class=\"dataframe\">\n",
       "  <thead>\n",
       "    <tr style=\"text-align: right;\">\n",
       "      <th></th>\n",
       "      <th>person_id</th>\n",
       "      <th>id</th>\n",
       "      <th>name</th>\n",
       "      <th>character</th>\n",
       "      <th>role</th>\n",
       "      <th>title</th>\n",
       "      <th>type</th>\n",
       "      <th>description</th>\n",
       "      <th>release_year</th>\n",
       "      <th>age_certification</th>\n",
       "      <th>runtime</th>\n",
       "      <th>genres</th>\n",
       "      <th>production_countries</th>\n",
       "      <th>seasons</th>\n",
       "      <th>imdb_id</th>\n",
       "      <th>imdb_score</th>\n",
       "      <th>imdb_votes</th>\n",
       "      <th>tmdb_popularity</th>\n",
       "      <th>tmdb_score</th>\n",
       "    </tr>\n",
       "  </thead>\n",
       "  <tbody>\n",
       "    <tr>\n",
       "      <th>327</th>\n",
       "      <td>13410</td>\n",
       "      <td>tm82363</td>\n",
       "      <td>Suzanne Ridgeway</td>\n",
       "      <td>NaN</td>\n",
       "      <td>ACTOR</td>\n",
       "      <td>The Big Sleep</td>\n",
       "      <td>MOVIE</td>\n",
       "      <td>Private Investigator Philip Marlowe is hired b...</td>\n",
       "      <td>1946</td>\n",
       "      <td>NaN</td>\n",
       "      <td>116</td>\n",
       "      <td>['thriller', 'crime']</td>\n",
       "      <td>['US']</td>\n",
       "      <td>NaN</td>\n",
       "      <td>tt0038355</td>\n",
       "      <td>7.9</td>\n",
       "      <td>84494.0</td>\n",
       "      <td>12.911</td>\n",
       "      <td>7.7</td>\n",
       "    </tr>\n",
       "    <tr>\n",
       "      <th>569</th>\n",
       "      <td>2357267</td>\n",
       "      <td>tm81960</td>\n",
       "      <td>Sally Cleaves</td>\n",
       "      <td>NaN</td>\n",
       "      <td>ACTOR</td>\n",
       "      <td>The Philadelphia Story</td>\n",
       "      <td>MOVIE</td>\n",
       "      <td>When a rich woman's ex-husband and a tabloid-t...</td>\n",
       "      <td>1940</td>\n",
       "      <td>NaN</td>\n",
       "      <td>113</td>\n",
       "      <td>['romance', 'comedy']</td>\n",
       "      <td>['US']</td>\n",
       "      <td>NaN</td>\n",
       "      <td>tt0032904</td>\n",
       "      <td>7.9</td>\n",
       "      <td>68337.0</td>\n",
       "      <td>11.587</td>\n",
       "      <td>7.7</td>\n",
       "    </tr>\n",
       "    <tr>\n",
       "      <th>570</th>\n",
       "      <td>207582</td>\n",
       "      <td>tm81960</td>\n",
       "      <td>Oliver Cross</td>\n",
       "      <td>NaN</td>\n",
       "      <td>ACTOR</td>\n",
       "      <td>The Philadelphia Story</td>\n",
       "      <td>MOVIE</td>\n",
       "      <td>When a rich woman's ex-husband and a tabloid-t...</td>\n",
       "      <td>1940</td>\n",
       "      <td>NaN</td>\n",
       "      <td>113</td>\n",
       "      <td>['romance', 'comedy']</td>\n",
       "      <td>['US']</td>\n",
       "      <td>NaN</td>\n",
       "      <td>tt0032904</td>\n",
       "      <td>7.9</td>\n",
       "      <td>68337.0</td>\n",
       "      <td>11.587</td>\n",
       "      <td>7.7</td>\n",
       "    </tr>\n",
       "    <tr>\n",
       "      <th>571</th>\n",
       "      <td>49075</td>\n",
       "      <td>tm81960</td>\n",
       "      <td>Dick Gordon</td>\n",
       "      <td>NaN</td>\n",
       "      <td>ACTOR</td>\n",
       "      <td>The Philadelphia Story</td>\n",
       "      <td>MOVIE</td>\n",
       "      <td>When a rich woman's ex-husband and a tabloid-t...</td>\n",
       "      <td>1940</td>\n",
       "      <td>NaN</td>\n",
       "      <td>113</td>\n",
       "      <td>['romance', 'comedy']</td>\n",
       "      <td>['US']</td>\n",
       "      <td>NaN</td>\n",
       "      <td>tt0032904</td>\n",
       "      <td>7.9</td>\n",
       "      <td>68337.0</td>\n",
       "      <td>11.587</td>\n",
       "      <td>7.7</td>\n",
       "    </tr>\n",
       "    <tr>\n",
       "      <th>572</th>\n",
       "      <td>33003</td>\n",
       "      <td>tm81960</td>\n",
       "      <td>Sam Harris</td>\n",
       "      <td>NaN</td>\n",
       "      <td>ACTOR</td>\n",
       "      <td>The Philadelphia Story</td>\n",
       "      <td>MOVIE</td>\n",
       "      <td>When a rich woman's ex-husband and a tabloid-t...</td>\n",
       "      <td>1940</td>\n",
       "      <td>NaN</td>\n",
       "      <td>113</td>\n",
       "      <td>['romance', 'comedy']</td>\n",
       "      <td>['US']</td>\n",
       "      <td>NaN</td>\n",
       "      <td>tt0032904</td>\n",
       "      <td>7.9</td>\n",
       "      <td>68337.0</td>\n",
       "      <td>11.587</td>\n",
       "      <td>7.7</td>\n",
       "    </tr>\n",
       "    <tr>\n",
       "      <th>...</th>\n",
       "      <td>...</td>\n",
       "      <td>...</td>\n",
       "      <td>...</td>\n",
       "      <td>...</td>\n",
       "      <td>...</td>\n",
       "      <td>...</td>\n",
       "      <td>...</td>\n",
       "      <td>...</td>\n",
       "      <td>...</td>\n",
       "      <td>...</td>\n",
       "      <td>...</td>\n",
       "      <td>...</td>\n",
       "      <td>...</td>\n",
       "      <td>...</td>\n",
       "      <td>...</td>\n",
       "      <td>...</td>\n",
       "      <td>...</td>\n",
       "      <td>...</td>\n",
       "      <td>...</td>\n",
       "    </tr>\n",
       "    <tr>\n",
       "      <th>66336</th>\n",
       "      <td>675835</td>\n",
       "      <td>tm1066107</td>\n",
       "      <td>Patrick McGilligan</td>\n",
       "      <td>NaN</td>\n",
       "      <td>ACTOR</td>\n",
       "      <td>Oscar Micheaux - The Superhero of Black Filmma...</td>\n",
       "      <td>MOVIE</td>\n",
       "      <td>A look at the extraordinary achievements and c...</td>\n",
       "      <td>2021</td>\n",
       "      <td>NaN</td>\n",
       "      <td>80</td>\n",
       "      <td>['documentation']</td>\n",
       "      <td>['IT']</td>\n",
       "      <td>NaN</td>\n",
       "      <td>tt14983798</td>\n",
       "      <td>6.9</td>\n",
       "      <td>88.0</td>\n",
       "      <td>1.002</td>\n",
       "      <td>NaN</td>\n",
       "    </tr>\n",
       "    <tr>\n",
       "      <th>66337</th>\n",
       "      <td>141091</td>\n",
       "      <td>tm1066107</td>\n",
       "      <td>Kevin Willmott</td>\n",
       "      <td>NaN</td>\n",
       "      <td>ACTOR</td>\n",
       "      <td>Oscar Micheaux - The Superhero of Black Filmma...</td>\n",
       "      <td>MOVIE</td>\n",
       "      <td>A look at the extraordinary achievements and c...</td>\n",
       "      <td>2021</td>\n",
       "      <td>NaN</td>\n",
       "      <td>80</td>\n",
       "      <td>['documentation']</td>\n",
       "      <td>['IT']</td>\n",
       "      <td>NaN</td>\n",
       "      <td>tt14983798</td>\n",
       "      <td>6.9</td>\n",
       "      <td>88.0</td>\n",
       "      <td>1.002</td>\n",
       "      <td>NaN</td>\n",
       "    </tr>\n",
       "    <tr>\n",
       "      <th>66338</th>\n",
       "      <td>16733</td>\n",
       "      <td>tm1066107</td>\n",
       "      <td>John Singleton</td>\n",
       "      <td>NaN</td>\n",
       "      <td>ACTOR</td>\n",
       "      <td>Oscar Micheaux - The Superhero of Black Filmma...</td>\n",
       "      <td>MOVIE</td>\n",
       "      <td>A look at the extraordinary achievements and c...</td>\n",
       "      <td>2021</td>\n",
       "      <td>NaN</td>\n",
       "      <td>80</td>\n",
       "      <td>['documentation']</td>\n",
       "      <td>['IT']</td>\n",
       "      <td>NaN</td>\n",
       "      <td>tt14983798</td>\n",
       "      <td>6.9</td>\n",
       "      <td>88.0</td>\n",
       "      <td>1.002</td>\n",
       "      <td>NaN</td>\n",
       "    </tr>\n",
       "    <tr>\n",
       "      <th>66339</th>\n",
       "      <td>183165</td>\n",
       "      <td>tm1066107</td>\n",
       "      <td>Haskell Wexler</td>\n",
       "      <td>NaN</td>\n",
       "      <td>ACTOR</td>\n",
       "      <td>Oscar Micheaux - The Superhero of Black Filmma...</td>\n",
       "      <td>MOVIE</td>\n",
       "      <td>A look at the extraordinary achievements and c...</td>\n",
       "      <td>2021</td>\n",
       "      <td>NaN</td>\n",
       "      <td>80</td>\n",
       "      <td>['documentation']</td>\n",
       "      <td>['IT']</td>\n",
       "      <td>NaN</td>\n",
       "      <td>tt14983798</td>\n",
       "      <td>6.9</td>\n",
       "      <td>88.0</td>\n",
       "      <td>1.002</td>\n",
       "      <td>NaN</td>\n",
       "    </tr>\n",
       "    <tr>\n",
       "      <th>66340</th>\n",
       "      <td>63382</td>\n",
       "      <td>tm1066107</td>\n",
       "      <td>Melvin Van Peebles</td>\n",
       "      <td>NaN</td>\n",
       "      <td>ACTOR</td>\n",
       "      <td>Oscar Micheaux - The Superhero of Black Filmma...</td>\n",
       "      <td>MOVIE</td>\n",
       "      <td>A look at the extraordinary achievements and c...</td>\n",
       "      <td>2021</td>\n",
       "      <td>NaN</td>\n",
       "      <td>80</td>\n",
       "      <td>['documentation']</td>\n",
       "      <td>['IT']</td>\n",
       "      <td>NaN</td>\n",
       "      <td>tt14983798</td>\n",
       "      <td>6.9</td>\n",
       "      <td>88.0</td>\n",
       "      <td>1.002</td>\n",
       "      <td>NaN</td>\n",
       "    </tr>\n",
       "  </tbody>\n",
       "</table>\n",
       "<p>1731 rows × 19 columns</p>\n",
       "</div>"
      ],
      "text/plain": [
       "       person_id         id                name character   role  \\\n",
       "327        13410    tm82363    Suzanne Ridgeway       NaN  ACTOR   \n",
       "569      2357267    tm81960       Sally Cleaves       NaN  ACTOR   \n",
       "570       207582    tm81960        Oliver Cross       NaN  ACTOR   \n",
       "571        49075    tm81960         Dick Gordon       NaN  ACTOR   \n",
       "572        33003    tm81960          Sam Harris       NaN  ACTOR   \n",
       "...          ...        ...                 ...       ...    ...   \n",
       "66336     675835  tm1066107  Patrick McGilligan       NaN  ACTOR   \n",
       "66337     141091  tm1066107      Kevin Willmott       NaN  ACTOR   \n",
       "66338      16733  tm1066107      John Singleton       NaN  ACTOR   \n",
       "66339     183165  tm1066107      Haskell Wexler       NaN  ACTOR   \n",
       "66340      63382  tm1066107  Melvin Van Peebles       NaN  ACTOR   \n",
       "\n",
       "                                                   title   type  \\\n",
       "327                                        The Big Sleep  MOVIE   \n",
       "569                               The Philadelphia Story  MOVIE   \n",
       "570                               The Philadelphia Story  MOVIE   \n",
       "571                               The Philadelphia Story  MOVIE   \n",
       "572                               The Philadelphia Story  MOVIE   \n",
       "...                                                  ...    ...   \n",
       "66336  Oscar Micheaux - The Superhero of Black Filmma...  MOVIE   \n",
       "66337  Oscar Micheaux - The Superhero of Black Filmma...  MOVIE   \n",
       "66338  Oscar Micheaux - The Superhero of Black Filmma...  MOVIE   \n",
       "66339  Oscar Micheaux - The Superhero of Black Filmma...  MOVIE   \n",
       "66340  Oscar Micheaux - The Superhero of Black Filmma...  MOVIE   \n",
       "\n",
       "                                             description  release_year  \\\n",
       "327    Private Investigator Philip Marlowe is hired b...          1946   \n",
       "569    When a rich woman's ex-husband and a tabloid-t...          1940   \n",
       "570    When a rich woman's ex-husband and a tabloid-t...          1940   \n",
       "571    When a rich woman's ex-husband and a tabloid-t...          1940   \n",
       "572    When a rich woman's ex-husband and a tabloid-t...          1940   \n",
       "...                                                  ...           ...   \n",
       "66336  A look at the extraordinary achievements and c...          2021   \n",
       "66337  A look at the extraordinary achievements and c...          2021   \n",
       "66338  A look at the extraordinary achievements and c...          2021   \n",
       "66339  A look at the extraordinary achievements and c...          2021   \n",
       "66340  A look at the extraordinary achievements and c...          2021   \n",
       "\n",
       "      age_certification  runtime                 genres production_countries  \\\n",
       "327                 NaN      116  ['thriller', 'crime']               ['US']   \n",
       "569                 NaN      113  ['romance', 'comedy']               ['US']   \n",
       "570                 NaN      113  ['romance', 'comedy']               ['US']   \n",
       "571                 NaN      113  ['romance', 'comedy']               ['US']   \n",
       "572                 NaN      113  ['romance', 'comedy']               ['US']   \n",
       "...                 ...      ...                    ...                  ...   \n",
       "66336               NaN       80      ['documentation']               ['IT']   \n",
       "66337               NaN       80      ['documentation']               ['IT']   \n",
       "66338               NaN       80      ['documentation']               ['IT']   \n",
       "66339               NaN       80      ['documentation']               ['IT']   \n",
       "66340               NaN       80      ['documentation']               ['IT']   \n",
       "\n",
       "       seasons     imdb_id  imdb_score  imdb_votes  tmdb_popularity  \\\n",
       "327        NaN   tt0038355         7.9     84494.0           12.911   \n",
       "569        NaN   tt0032904         7.9     68337.0           11.587   \n",
       "570        NaN   tt0032904         7.9     68337.0           11.587   \n",
       "571        NaN   tt0032904         7.9     68337.0           11.587   \n",
       "572        NaN   tt0032904         7.9     68337.0           11.587   \n",
       "...        ...         ...         ...         ...              ...   \n",
       "66336      NaN  tt14983798         6.9        88.0            1.002   \n",
       "66337      NaN  tt14983798         6.9        88.0            1.002   \n",
       "66338      NaN  tt14983798         6.9        88.0            1.002   \n",
       "66339      NaN  tt14983798         6.9        88.0            1.002   \n",
       "66340      NaN  tt14983798         6.9        88.0            1.002   \n",
       "\n",
       "       tmdb_score  \n",
       "327           7.7  \n",
       "569           7.7  \n",
       "570           7.7  \n",
       "571           7.7  \n",
       "572           7.7  \n",
       "...           ...  \n",
       "66336         NaN  \n",
       "66337         NaN  \n",
       "66338         NaN  \n",
       "66339         NaN  \n",
       "66340         NaN  \n",
       "\n",
       "[1731 rows x 19 columns]"
      ]
     },
     "execution_count": 155,
     "metadata": {},
     "output_type": "execute_result"
    }
   ],
   "source": [
    "master_df[master_df['character'].isna()][master_df['role'] == 'ACTOR']"
   ]
  },
  {
   "cell_type": "code",
   "execution_count": 156,
   "metadata": {},
   "outputs": [
    {
     "data": {
      "text/plain": [
       "Self                      1812\n",
       "Himself                    614\n",
       "Self (archive footage)     395\n",
       "Herself                    289\n",
       "Dancer                     272\n",
       "                          ... \n",
       "Dr. Payson                   1\n",
       "Eva Marie                    1\n",
       "Saudi                        1\n",
       "Lisha                        1\n",
       "Oficial Jaramillo            1\n",
       "Name: character, Length: 41689, dtype: int64"
      ]
     },
     "execution_count": 156,
     "metadata": {},
     "output_type": "execute_result"
    }
   ],
   "source": [
    "master_df.dropna(subset ='character', inplace=True)\n",
    "master_df['character'].value_counts()"
   ]
  },
  {
   "cell_type": "markdown",
   "metadata": {},
   "source": [
    "## description                11"
   ]
  },
  {
   "cell_type": "code",
   "execution_count": 157,
   "metadata": {},
   "outputs": [
    {
     "data": {
      "text/html": [
       "<div>\n",
       "<style scoped>\n",
       "    .dataframe tbody tr th:only-of-type {\n",
       "        vertical-align: middle;\n",
       "    }\n",
       "\n",
       "    .dataframe tbody tr th {\n",
       "        vertical-align: top;\n",
       "    }\n",
       "\n",
       "    .dataframe thead th {\n",
       "        text-align: right;\n",
       "    }\n",
       "</style>\n",
       "<table border=\"1\" class=\"dataframe\">\n",
       "  <thead>\n",
       "    <tr style=\"text-align: right;\">\n",
       "      <th></th>\n",
       "      <th>person_id</th>\n",
       "      <th>id</th>\n",
       "      <th>name</th>\n",
       "      <th>character</th>\n",
       "      <th>role</th>\n",
       "      <th>title</th>\n",
       "      <th>type</th>\n",
       "      <th>description</th>\n",
       "      <th>release_year</th>\n",
       "      <th>age_certification</th>\n",
       "      <th>runtime</th>\n",
       "      <th>genres</th>\n",
       "      <th>production_countries</th>\n",
       "      <th>seasons</th>\n",
       "      <th>imdb_id</th>\n",
       "      <th>imdb_score</th>\n",
       "      <th>imdb_votes</th>\n",
       "      <th>tmdb_popularity</th>\n",
       "      <th>tmdb_score</th>\n",
       "    </tr>\n",
       "  </thead>\n",
       "  <tbody>\n",
       "    <tr>\n",
       "      <th>56861</th>\n",
       "      <td>35820</td>\n",
       "      <td>tm840302</td>\n",
       "      <td>Luigi Sciamanna</td>\n",
       "      <td>Raul (foley artist)</td>\n",
       "      <td>ACTOR</td>\n",
       "      <td>Lucy</td>\n",
       "      <td>MOVIE</td>\n",
       "      <td>NaN</td>\n",
       "      <td>2018</td>\n",
       "      <td>NaN</td>\n",
       "      <td>15</td>\n",
       "      <td>['romance']</td>\n",
       "      <td>['VE', 'US']</td>\n",
       "      <td>NaN</td>\n",
       "      <td>NaN</td>\n",
       "      <td>NaN</td>\n",
       "      <td>NaN</td>\n",
       "      <td>0.683</td>\n",
       "      <td>5.0</td>\n",
       "    </tr>\n",
       "    <tr>\n",
       "      <th>66329</th>\n",
       "      <td>2124029</td>\n",
       "      <td>tm1142907</td>\n",
       "      <td>Natti Natasha</td>\n",
       "      <td>Self</td>\n",
       "      <td>ACTOR</td>\n",
       "      <td>Natti Natasha</td>\n",
       "      <td>MOVIE</td>\n",
       "      <td>NaN</td>\n",
       "      <td>2021</td>\n",
       "      <td>PG-13</td>\n",
       "      <td>65</td>\n",
       "      <td>['music']</td>\n",
       "      <td>['US']</td>\n",
       "      <td>NaN</td>\n",
       "      <td>NaN</td>\n",
       "      <td>NaN</td>\n",
       "      <td>NaN</td>\n",
       "      <td>0.817</td>\n",
       "      <td>NaN</td>\n",
       "    </tr>\n",
       "    <tr>\n",
       "      <th>66356</th>\n",
       "      <td>1197742</td>\n",
       "      <td>tm1128651</td>\n",
       "      <td>Farruko</td>\n",
       "      <td>Farruko</td>\n",
       "      <td>ACTOR</td>\n",
       "      <td>Farruko Live On Max</td>\n",
       "      <td>MOVIE</td>\n",
       "      <td>NaN</td>\n",
       "      <td>2021</td>\n",
       "      <td>NaN</td>\n",
       "      <td>75</td>\n",
       "      <td>['music']</td>\n",
       "      <td>[]</td>\n",
       "      <td>NaN</td>\n",
       "      <td>NaN</td>\n",
       "      <td>NaN</td>\n",
       "      <td>NaN</td>\n",
       "      <td>0.725</td>\n",
       "      <td>NaN</td>\n",
       "    </tr>\n",
       "  </tbody>\n",
       "</table>\n",
       "</div>"
      ],
      "text/plain": [
       "       person_id         id             name            character   role  \\\n",
       "56861      35820   tm840302  Luigi Sciamanna  Raul (foley artist)  ACTOR   \n",
       "66329    2124029  tm1142907    Natti Natasha                 Self  ACTOR   \n",
       "66356    1197742  tm1128651          Farruko              Farruko  ACTOR   \n",
       "\n",
       "                     title   type description  release_year age_certification  \\\n",
       "56861                 Lucy  MOVIE         NaN          2018               NaN   \n",
       "66329        Natti Natasha  MOVIE         NaN          2021             PG-13   \n",
       "66356  Farruko Live On Max  MOVIE         NaN          2021               NaN   \n",
       "\n",
       "       runtime       genres production_countries  seasons imdb_id  imdb_score  \\\n",
       "56861       15  ['romance']         ['VE', 'US']      NaN     NaN         NaN   \n",
       "66329       65    ['music']               ['US']      NaN     NaN         NaN   \n",
       "66356       75    ['music']                   []      NaN     NaN         NaN   \n",
       "\n",
       "       imdb_votes  tmdb_popularity  tmdb_score  \n",
       "56861         NaN            0.683         5.0  \n",
       "66329         NaN            0.817         NaN  \n",
       "66356         NaN            0.725         NaN  "
      ]
     },
     "execution_count": 157,
     "metadata": {},
     "output_type": "execute_result"
    }
   ],
   "source": [
    "master_df[master_df['description'].isna()]"
   ]
  },
  {
   "cell_type": "markdown",
   "metadata": {},
   "source": [
    "> Being that the missing description is for newer movies im going to fill them with empty strings."
   ]
  },
  {
   "cell_type": "code",
   "execution_count": 158,
   "metadata": {},
   "outputs": [],
   "source": [
    "master_df['description'] = master_df['description'].fillna('', axis='index')"
   ]
  },
  {
   "cell_type": "markdown",
   "metadata": {},
   "source": [
    "## age_certification       15693"
   ]
  },
  {
   "cell_type": "code",
   "execution_count": 159,
   "metadata": {},
   "outputs": [
    {
     "data": {
      "text/plain": [
       "13545"
      ]
     },
     "execution_count": 159,
     "metadata": {},
     "output_type": "execute_result"
    }
   ],
   "source": [
    "master_df['age_certification'].isna().sum()"
   ]
  },
  {
   "cell_type": "code",
   "execution_count": 160,
   "metadata": {},
   "outputs": [
    {
     "data": {
      "text/plain": [
       "MOVIE    13126\n",
       "SHOW       419\n",
       "Name: type, dtype: int64"
      ]
     },
     "execution_count": 160,
     "metadata": {},
     "output_type": "execute_result"
    }
   ],
   "source": [
    "master_df[master_df['age_certification'].isna()]['type'].value_counts()"
   ]
  },
  {
   "cell_type": "code",
   "execution_count": 161,
   "metadata": {},
   "outputs": [
    {
     "data": {
      "text/plain": [
       "2020    897\n",
       "2019    616\n",
       "2021    598\n",
       "1941    405\n",
       "2015    353\n",
       "       ... \n",
       "1981      5\n",
       "1904      4\n",
       "1906      2\n",
       "1903      1\n",
       "1901      1\n",
       "Name: release_year, Length: 109, dtype: int64"
      ]
     },
     "execution_count": 161,
     "metadata": {},
     "output_type": "execute_result"
    }
   ],
   "source": [
    "master_df[master_df['age_certification'].isna()]['release_year'].value_counts()"
   ]
  },
  {
   "cell_type": "markdown",
   "metadata": {},
   "source": [
    "> I would love to incorporate this feature but being the spread of missing age_certification would be to hard to predict with a imputer and most likely screw my future models preformance."
   ]
  },
  {
   "cell_type": "markdown",
   "metadata": {},
   "source": [
    "## seasons                 61706"
   ]
  },
  {
   "cell_type": "code",
   "execution_count": 162,
   "metadata": {},
   "outputs": [
    {
     "data": {
      "text/plain": [
       "MOVIE    57653\n",
       "Name: type, dtype: int64"
      ]
     },
     "execution_count": 162,
     "metadata": {},
     "output_type": "execute_result"
    }
   ],
   "source": [
    "master_df[master_df['seasons'].isna()]['type'].value_counts()"
   ]
  },
  {
   "cell_type": "markdown",
   "metadata": {},
   "source": [
    "> being that the missing observations are movies I plan on filling them in with 0.5 or 1"
   ]
  },
  {
   "cell_type": "code",
   "execution_count": 163,
   "metadata": {},
   "outputs": [],
   "source": [
    "master_df['seasons'] = master_df['seasons'].fillna(0.5, axis='index')"
   ]
  },
  {
   "cell_type": "markdown",
   "metadata": {},
   "source": [
    "## imdb_id                  2940"
   ]
  },
  {
   "cell_type": "markdown",
   "metadata": {},
   "source": [
    "> Being that the imdb id isnt necessary I will drop this column"
   ]
  },
  {
   "cell_type": "markdown",
   "metadata": {},
   "source": [
    "## imdb_score               3104, imdb_votes               3169, mdb_score                869"
   ]
  },
  {
   "cell_type": "code",
   "execution_count": 164,
   "metadata": {},
   "outputs": [
    {
     "data": {
      "text/html": [
       "<div>\n",
       "<style scoped>\n",
       "    .dataframe tbody tr th:only-of-type {\n",
       "        vertical-align: middle;\n",
       "    }\n",
       "\n",
       "    .dataframe tbody tr th {\n",
       "        vertical-align: top;\n",
       "    }\n",
       "\n",
       "    .dataframe thead th {\n",
       "        text-align: right;\n",
       "    }\n",
       "</style>\n",
       "<table border=\"1\" class=\"dataframe\">\n",
       "  <thead>\n",
       "    <tr style=\"text-align: right;\">\n",
       "      <th></th>\n",
       "      <th>person_id</th>\n",
       "      <th>id</th>\n",
       "      <th>name</th>\n",
       "      <th>character</th>\n",
       "      <th>role</th>\n",
       "      <th>title</th>\n",
       "      <th>type</th>\n",
       "      <th>description</th>\n",
       "      <th>release_year</th>\n",
       "      <th>age_certification</th>\n",
       "      <th>runtime</th>\n",
       "      <th>genres</th>\n",
       "      <th>production_countries</th>\n",
       "      <th>seasons</th>\n",
       "      <th>imdb_id</th>\n",
       "      <th>imdb_score</th>\n",
       "      <th>imdb_votes</th>\n",
       "      <th>tmdb_popularity</th>\n",
       "      <th>tmdb_score</th>\n",
       "    </tr>\n",
       "  </thead>\n",
       "  <tbody>\n",
       "    <tr>\n",
       "      <th>1949</th>\n",
       "      <td>120559</td>\n",
       "      <td>tm127045</td>\n",
       "      <td>Georges Méliès</td>\n",
       "      <td>Professor Barbenfouillis / The Moon</td>\n",
       "      <td>ACTOR</td>\n",
       "      <td>A Trip to the Moon</td>\n",
       "      <td>MOVIE</td>\n",
       "      <td>Professor Barbenfouillis and five of his colle...</td>\n",
       "      <td>1902</td>\n",
       "      <td>NaN</td>\n",
       "      <td>15</td>\n",
       "      <td>['scifi', 'fantasy', 'european']</td>\n",
       "      <td>['FR']</td>\n",
       "      <td>0.5</td>\n",
       "      <td>NaN</td>\n",
       "      <td>NaN</td>\n",
       "      <td>NaN</td>\n",
       "      <td>13.032</td>\n",
       "      <td>8.0</td>\n",
       "    </tr>\n",
       "    <tr>\n",
       "      <th>1950</th>\n",
       "      <td>120561</td>\n",
       "      <td>tm127045</td>\n",
       "      <td>Bleuette Bernon</td>\n",
       "      <td>Lady in the Moon (uncredited)</td>\n",
       "      <td>ACTOR</td>\n",
       "      <td>A Trip to the Moon</td>\n",
       "      <td>MOVIE</td>\n",
       "      <td>Professor Barbenfouillis and five of his colle...</td>\n",
       "      <td>1902</td>\n",
       "      <td>NaN</td>\n",
       "      <td>15</td>\n",
       "      <td>['scifi', 'fantasy', 'european']</td>\n",
       "      <td>['FR']</td>\n",
       "      <td>0.5</td>\n",
       "      <td>NaN</td>\n",
       "      <td>NaN</td>\n",
       "      <td>NaN</td>\n",
       "      <td>13.032</td>\n",
       "      <td>8.0</td>\n",
       "    </tr>\n",
       "    <tr>\n",
       "      <th>1951</th>\n",
       "      <td>120563</td>\n",
       "      <td>tm127045</td>\n",
       "      <td>Victor André</td>\n",
       "      <td>Astronomer (uncredited)</td>\n",
       "      <td>ACTOR</td>\n",
       "      <td>A Trip to the Moon</td>\n",
       "      <td>MOVIE</td>\n",
       "      <td>Professor Barbenfouillis and five of his colle...</td>\n",
       "      <td>1902</td>\n",
       "      <td>NaN</td>\n",
       "      <td>15</td>\n",
       "      <td>['scifi', 'fantasy', 'european']</td>\n",
       "      <td>['FR']</td>\n",
       "      <td>0.5</td>\n",
       "      <td>NaN</td>\n",
       "      <td>NaN</td>\n",
       "      <td>NaN</td>\n",
       "      <td>13.032</td>\n",
       "      <td>8.0</td>\n",
       "    </tr>\n",
       "    <tr>\n",
       "      <th>1952</th>\n",
       "      <td>120560</td>\n",
       "      <td>tm127045</td>\n",
       "      <td>Henri Delannoy</td>\n",
       "      <td>Captain of the Rocket (uncredited)</td>\n",
       "      <td>ACTOR</td>\n",
       "      <td>A Trip to the Moon</td>\n",
       "      <td>MOVIE</td>\n",
       "      <td>Professor Barbenfouillis and five of his colle...</td>\n",
       "      <td>1902</td>\n",
       "      <td>NaN</td>\n",
       "      <td>15</td>\n",
       "      <td>['scifi', 'fantasy', 'european']</td>\n",
       "      <td>['FR']</td>\n",
       "      <td>0.5</td>\n",
       "      <td>NaN</td>\n",
       "      <td>NaN</td>\n",
       "      <td>NaN</td>\n",
       "      <td>13.032</td>\n",
       "      <td>8.0</td>\n",
       "    </tr>\n",
       "    <tr>\n",
       "      <th>1953</th>\n",
       "      <td>120562</td>\n",
       "      <td>tm127045</td>\n",
       "      <td>Brunnet</td>\n",
       "      <td>Astronomer (uncredited)</td>\n",
       "      <td>ACTOR</td>\n",
       "      <td>A Trip to the Moon</td>\n",
       "      <td>MOVIE</td>\n",
       "      <td>Professor Barbenfouillis and five of his colle...</td>\n",
       "      <td>1902</td>\n",
       "      <td>NaN</td>\n",
       "      <td>15</td>\n",
       "      <td>['scifi', 'fantasy', 'european']</td>\n",
       "      <td>['FR']</td>\n",
       "      <td>0.5</td>\n",
       "      <td>NaN</td>\n",
       "      <td>NaN</td>\n",
       "      <td>NaN</td>\n",
       "      <td>13.032</td>\n",
       "      <td>8.0</td>\n",
       "    </tr>\n",
       "    <tr>\n",
       "      <th>...</th>\n",
       "      <td>...</td>\n",
       "      <td>...</td>\n",
       "      <td>...</td>\n",
       "      <td>...</td>\n",
       "      <td>...</td>\n",
       "      <td>...</td>\n",
       "      <td>...</td>\n",
       "      <td>...</td>\n",
       "      <td>...</td>\n",
       "      <td>...</td>\n",
       "      <td>...</td>\n",
       "      <td>...</td>\n",
       "      <td>...</td>\n",
       "      <td>...</td>\n",
       "      <td>...</td>\n",
       "      <td>...</td>\n",
       "      <td>...</td>\n",
       "      <td>...</td>\n",
       "      <td>...</td>\n",
       "    </tr>\n",
       "    <tr>\n",
       "      <th>66372</th>\n",
       "      <td>2012331</td>\n",
       "      <td>tm1082718</td>\n",
       "      <td>Elvis Martinez</td>\n",
       "      <td>Self</td>\n",
       "      <td>ACTOR</td>\n",
       "      <td>Romeo Santos: Utopia Live from MetLife Stadium</td>\n",
       "      <td>MOVIE</td>\n",
       "      <td>In this Concert he focuses on the star and mos...</td>\n",
       "      <td>2021</td>\n",
       "      <td>NaN</td>\n",
       "      <td>103</td>\n",
       "      <td>['romance', 'music']</td>\n",
       "      <td>['PR']</td>\n",
       "      <td>0.5</td>\n",
       "      <td>NaN</td>\n",
       "      <td>NaN</td>\n",
       "      <td>NaN</td>\n",
       "      <td>8.425</td>\n",
       "      <td>8.1</td>\n",
       "    </tr>\n",
       "    <tr>\n",
       "      <th>66373</th>\n",
       "      <td>2012486</td>\n",
       "      <td>tm1082718</td>\n",
       "      <td>Kiko Rodriguez</td>\n",
       "      <td>Self</td>\n",
       "      <td>ACTOR</td>\n",
       "      <td>Romeo Santos: Utopia Live from MetLife Stadium</td>\n",
       "      <td>MOVIE</td>\n",
       "      <td>In this Concert he focuses on the star and mos...</td>\n",
       "      <td>2021</td>\n",
       "      <td>NaN</td>\n",
       "      <td>103</td>\n",
       "      <td>['romance', 'music']</td>\n",
       "      <td>['PR']</td>\n",
       "      <td>0.5</td>\n",
       "      <td>NaN</td>\n",
       "      <td>NaN</td>\n",
       "      <td>NaN</td>\n",
       "      <td>8.425</td>\n",
       "      <td>8.1</td>\n",
       "    </tr>\n",
       "    <tr>\n",
       "      <th>66374</th>\n",
       "      <td>419156</td>\n",
       "      <td>tm1082718</td>\n",
       "      <td>Luis Vargas</td>\n",
       "      <td>Self</td>\n",
       "      <td>ACTOR</td>\n",
       "      <td>Romeo Santos: Utopia Live from MetLife Stadium</td>\n",
       "      <td>MOVIE</td>\n",
       "      <td>In this Concert he focuses on the star and mos...</td>\n",
       "      <td>2021</td>\n",
       "      <td>NaN</td>\n",
       "      <td>103</td>\n",
       "      <td>['romance', 'music']</td>\n",
       "      <td>['PR']</td>\n",
       "      <td>0.5</td>\n",
       "      <td>NaN</td>\n",
       "      <td>NaN</td>\n",
       "      <td>NaN</td>\n",
       "      <td>8.425</td>\n",
       "      <td>8.1</td>\n",
       "    </tr>\n",
       "    <tr>\n",
       "      <th>66375</th>\n",
       "      <td>2012505</td>\n",
       "      <td>tm1082718</td>\n",
       "      <td>Monchy &amp; Alexandra</td>\n",
       "      <td>Self</td>\n",
       "      <td>ACTOR</td>\n",
       "      <td>Romeo Santos: Utopia Live from MetLife Stadium</td>\n",
       "      <td>MOVIE</td>\n",
       "      <td>In this Concert he focuses on the star and mos...</td>\n",
       "      <td>2021</td>\n",
       "      <td>NaN</td>\n",
       "      <td>103</td>\n",
       "      <td>['romance', 'music']</td>\n",
       "      <td>['PR']</td>\n",
       "      <td>0.5</td>\n",
       "      <td>NaN</td>\n",
       "      <td>NaN</td>\n",
       "      <td>NaN</td>\n",
       "      <td>8.425</td>\n",
       "      <td>8.1</td>\n",
       "    </tr>\n",
       "    <tr>\n",
       "      <th>66376</th>\n",
       "      <td>2012366</td>\n",
       "      <td>tm1082718</td>\n",
       "      <td>Zacarias Ferreria</td>\n",
       "      <td>Self</td>\n",
       "      <td>ACTOR</td>\n",
       "      <td>Romeo Santos: Utopia Live from MetLife Stadium</td>\n",
       "      <td>MOVIE</td>\n",
       "      <td>In this Concert he focuses on the star and mos...</td>\n",
       "      <td>2021</td>\n",
       "      <td>NaN</td>\n",
       "      <td>103</td>\n",
       "      <td>['romance', 'music']</td>\n",
       "      <td>['PR']</td>\n",
       "      <td>0.5</td>\n",
       "      <td>NaN</td>\n",
       "      <td>NaN</td>\n",
       "      <td>NaN</td>\n",
       "      <td>8.425</td>\n",
       "      <td>8.1</td>\n",
       "    </tr>\n",
       "  </tbody>\n",
       "</table>\n",
       "<p>2636 rows × 19 columns</p>\n",
       "</div>"
      ],
      "text/plain": [
       "       person_id         id                name  \\\n",
       "1949      120559   tm127045      Georges Méliès   \n",
       "1950      120561   tm127045     Bleuette Bernon   \n",
       "1951      120563   tm127045        Victor André   \n",
       "1952      120560   tm127045      Henri Delannoy   \n",
       "1953      120562   tm127045             Brunnet   \n",
       "...          ...        ...                 ...   \n",
       "66372    2012331  tm1082718      Elvis Martinez   \n",
       "66373    2012486  tm1082718      Kiko Rodriguez   \n",
       "66374     419156  tm1082718         Luis Vargas   \n",
       "66375    2012505  tm1082718  Monchy & Alexandra   \n",
       "66376    2012366  tm1082718   Zacarias Ferreria   \n",
       "\n",
       "                                 character   role  \\\n",
       "1949   Professor Barbenfouillis / The Moon  ACTOR   \n",
       "1950         Lady in the Moon (uncredited)  ACTOR   \n",
       "1951               Astronomer (uncredited)  ACTOR   \n",
       "1952    Captain of the Rocket (uncredited)  ACTOR   \n",
       "1953               Astronomer (uncredited)  ACTOR   \n",
       "...                                    ...    ...   \n",
       "66372                                 Self  ACTOR   \n",
       "66373                                 Self  ACTOR   \n",
       "66374                                 Self  ACTOR   \n",
       "66375                                 Self  ACTOR   \n",
       "66376                                 Self  ACTOR   \n",
       "\n",
       "                                                title   type  \\\n",
       "1949                               A Trip to the Moon  MOVIE   \n",
       "1950                               A Trip to the Moon  MOVIE   \n",
       "1951                               A Trip to the Moon  MOVIE   \n",
       "1952                               A Trip to the Moon  MOVIE   \n",
       "1953                               A Trip to the Moon  MOVIE   \n",
       "...                                               ...    ...   \n",
       "66372  Romeo Santos: Utopia Live from MetLife Stadium  MOVIE   \n",
       "66373  Romeo Santos: Utopia Live from MetLife Stadium  MOVIE   \n",
       "66374  Romeo Santos: Utopia Live from MetLife Stadium  MOVIE   \n",
       "66375  Romeo Santos: Utopia Live from MetLife Stadium  MOVIE   \n",
       "66376  Romeo Santos: Utopia Live from MetLife Stadium  MOVIE   \n",
       "\n",
       "                                             description  release_year  \\\n",
       "1949   Professor Barbenfouillis and five of his colle...          1902   \n",
       "1950   Professor Barbenfouillis and five of his colle...          1902   \n",
       "1951   Professor Barbenfouillis and five of his colle...          1902   \n",
       "1952   Professor Barbenfouillis and five of his colle...          1902   \n",
       "1953   Professor Barbenfouillis and five of his colle...          1902   \n",
       "...                                                  ...           ...   \n",
       "66372  In this Concert he focuses on the star and mos...          2021   \n",
       "66373  In this Concert he focuses on the star and mos...          2021   \n",
       "66374  In this Concert he focuses on the star and mos...          2021   \n",
       "66375  In this Concert he focuses on the star and mos...          2021   \n",
       "66376  In this Concert he focuses on the star and mos...          2021   \n",
       "\n",
       "      age_certification  runtime                            genres  \\\n",
       "1949                NaN       15  ['scifi', 'fantasy', 'european']   \n",
       "1950                NaN       15  ['scifi', 'fantasy', 'european']   \n",
       "1951                NaN       15  ['scifi', 'fantasy', 'european']   \n",
       "1952                NaN       15  ['scifi', 'fantasy', 'european']   \n",
       "1953                NaN       15  ['scifi', 'fantasy', 'european']   \n",
       "...                 ...      ...                               ...   \n",
       "66372               NaN      103              ['romance', 'music']   \n",
       "66373               NaN      103              ['romance', 'music']   \n",
       "66374               NaN      103              ['romance', 'music']   \n",
       "66375               NaN      103              ['romance', 'music']   \n",
       "66376               NaN      103              ['romance', 'music']   \n",
       "\n",
       "      production_countries  seasons imdb_id  imdb_score  imdb_votes  \\\n",
       "1949                ['FR']      0.5     NaN         NaN         NaN   \n",
       "1950                ['FR']      0.5     NaN         NaN         NaN   \n",
       "1951                ['FR']      0.5     NaN         NaN         NaN   \n",
       "1952                ['FR']      0.5     NaN         NaN         NaN   \n",
       "1953                ['FR']      0.5     NaN         NaN         NaN   \n",
       "...                    ...      ...     ...         ...         ...   \n",
       "66372               ['PR']      0.5     NaN         NaN         NaN   \n",
       "66373               ['PR']      0.5     NaN         NaN         NaN   \n",
       "66374               ['PR']      0.5     NaN         NaN         NaN   \n",
       "66375               ['PR']      0.5     NaN         NaN         NaN   \n",
       "66376               ['PR']      0.5     NaN         NaN         NaN   \n",
       "\n",
       "       tmdb_popularity  tmdb_score  \n",
       "1949            13.032         8.0  \n",
       "1950            13.032         8.0  \n",
       "1951            13.032         8.0  \n",
       "1952            13.032         8.0  \n",
       "1953            13.032         8.0  \n",
       "...                ...         ...  \n",
       "66372            8.425         8.1  \n",
       "66373            8.425         8.1  \n",
       "66374            8.425         8.1  \n",
       "66375            8.425         8.1  \n",
       "66376            8.425         8.1  \n",
       "\n",
       "[2636 rows x 19 columns]"
      ]
     },
     "execution_count": 164,
     "metadata": {},
     "output_type": "execute_result"
    }
   ],
   "source": [
    "master_df[master_df['imdb_score'].isna()]"
   ]
  },
  {
   "cell_type": "code",
   "execution_count": 165,
   "metadata": {},
   "outputs": [],
   "source": [
    "imputer = KNNImputer(n_neighbors=5)\n",
    "master_df[list(master_df.select_dtypes(include=[np.number]).columns.values)] = imputer.fit_transform(master_df[list(master_df.select_dtypes(include=[np.number]).columns.values)])"
   ]
  },
  {
   "cell_type": "code",
   "execution_count": 166,
   "metadata": {},
   "outputs": [
    {
     "data": {
      "text/plain": [
       "person_id                   0\n",
       "id                          0\n",
       "name                        0\n",
       "character                   0\n",
       "role                        0\n",
       "title                       0\n",
       "type                        0\n",
       "description                 0\n",
       "release_year                0\n",
       "age_certification       13545\n",
       "runtime                     0\n",
       "genres                      0\n",
       "production_countries        0\n",
       "seasons                     0\n",
       "imdb_id                  2493\n",
       "imdb_score                  0\n",
       "imdb_votes                  0\n",
       "tmdb_popularity             0\n",
       "tmdb_score                  0\n",
       "dtype: int64"
      ]
     },
     "execution_count": 166,
     "metadata": {},
     "output_type": "execute_result"
    }
   ],
   "source": [
    "master_df.isna().sum()"
   ]
  },
  {
   "cell_type": "markdown",
   "metadata": {},
   "source": [
    "# Features you need to drop:\n",
    "- imdb_id\n",
    "- id\n",
    "- age_certification\n",
    "- name = its repetative with person id"
   ]
  },
  {
   "cell_type": "code",
   "execution_count": 167,
   "metadata": {},
   "outputs": [],
   "source": [
    "master_df.drop(columns=['imdb_id', 'id', 'age_certification', 'name'], inplace=True)"
   ]
  },
  {
   "cell_type": "code",
   "execution_count": 168,
   "metadata": {},
   "outputs": [
    {
     "data": {
      "text/plain": [
       "person_id               0\n",
       "character               0\n",
       "role                    0\n",
       "title                   0\n",
       "type                    0\n",
       "description             0\n",
       "release_year            0\n",
       "runtime                 0\n",
       "genres                  0\n",
       "production_countries    0\n",
       "seasons                 0\n",
       "imdb_score              0\n",
       "imdb_votes              0\n",
       "tmdb_popularity         0\n",
       "tmdb_score              0\n",
       "dtype: int64"
      ]
     },
     "execution_count": 168,
     "metadata": {},
     "output_type": "execute_result"
    }
   ],
   "source": [
    "master_df.isna().sum()"
   ]
  },
  {
   "cell_type": "markdown",
   "metadata": {},
   "source": [
    "# Drop Unecessary Columns"
   ]
  },
  {
   "cell_type": "code",
   "execution_count": 169,
   "metadata": {},
   "outputs": [],
   "source": [
    "master_df.drop(columns=['character', 'seasons'], inplace=True)\n",
    "master_df.to_csv('../../data/cleaned_data/cleaned_HBO_data.csv', index=False)\n"
   ]
  },
  {
   "cell_type": "markdown",
   "metadata": {},
   "source": [
    "# Fix list columns"
   ]
  },
  {
   "cell_type": "code",
   "execution_count": 170,
   "metadata": {},
   "outputs": [],
   "source": [
    "master_df = pd.read_csv('../../data/cleaned_data/cleaned_HBO_data.csv', converters={'genres': pd.eval, 'production_countries': pd.eval})"
   ]
  },
  {
   "cell_type": "code",
   "execution_count": 172,
   "metadata": {},
   "outputs": [],
   "source": [
    "master_df['genres'] = master_df['genres'].str.join(' ')\n",
    "master_df['production_countries'] = master_df['production_countries'].str.join(' ')"
   ]
  },
  {
   "cell_type": "code",
   "execution_count": 173,
   "metadata": {},
   "outputs": [],
   "source": [
    "master_df['description'].fillna('', inplace=True)"
   ]
  },
  {
   "cell_type": "code",
   "execution_count": 174,
   "metadata": {},
   "outputs": [],
   "source": [
    "master_df.to_csv('../../data/model_data/model_ready_data.csv', index=False)"
   ]
  },
  {
   "cell_type": "markdown",
   "metadata": {},
   "source": [
    "# EDA Visuals"
   ]
  },
  {
   "cell_type": "code",
   "execution_count": 57,
   "metadata": {},
   "outputs": [
    {
     "name": "stdout",
     "output_type": "stream",
     "text": [
      "mean: 37.666505300058176 std: 170.09954214227824 max: 4447.894 min: 0.050393\n"
     ]
    }
   ],
   "source": [
    "# - mean and std popularity score\n",
    "print(f\"mean: {master_df['tmdb_popularity'].mean()} std: {master_df['tmdb_popularity'].std()} max: {master_df['tmdb_popularity'].max()} min: {master_df['tmdb_popularity'].min()}\")"
   ]
  },
  {
   "cell_type": "code",
   "execution_count": 56,
   "metadata": {},
   "outputs": [
    {
     "name": "stdout",
     "output_type": "stream",
     "text": [
      "mean: 105.88180261116857 std: 32.773043250863466 max: 255.0 min: 2.0\n"
     ]
    }
   ],
   "source": [
    "print(f\"mean: {master_df['runtime'].mean()} std: {master_df['runtime'].std()} max: {master_df['runtime'].max()} min: {master_df['runtime'].min()}\")"
   ]
  },
  {
   "cell_type": "code",
   "execution_count": 40,
   "metadata": {},
   "outputs": [
    {
     "data": {
      "text/plain": [
       "<AxesSubplot:xlabel='type'>"
      ]
     },
     "execution_count": 40,
     "metadata": {},
     "output_type": "execute_result"
    },
    {
     "data": {
      "image/png": "[encoded data removed]",
      "text/plain": [
       "<Figure size 432x288 with 1 Axes>"
      ]
     },
     "metadata": {
      "needs_background": "light"
     },
     "output_type": "display_data"
    }
   ],
   "source": [
    "# - make up of all hbo TV Shows/Movies\n",
    "master_df.groupby(['type'])['type'].count().plot.bar()"
   ]
  },
  {
   "cell_type": "code",
   "execution_count": 39,
   "metadata": {},
   "outputs": [
    {
     "data": {
      "text/plain": [
       "<AxesSubplot:xlabel='seasons'>"
      ]
     },
     "execution_count": 39,
     "metadata": {},
     "output_type": "execute_result"
    },
    {
     "data": {
      "image/png": "[encoded data removed]",
      "text/plain": [
       "<Figure size 432x288 with 1 Axes>"
      ]
     },
     "metadata": {
      "needs_background": "light"
     },
     "output_type": "display_data"
    }
   ],
   "source": [
    "# - makeup of observations by season\n",
    "master_df.groupby(['seasons'])['seasons'].count().plot.bar()"
   ]
  },
  {
   "cell_type": "code",
   "execution_count": 54,
   "metadata": {},
   "outputs": [
    {
     "data": {
      "text/plain": [
       "<AxesSubplot:xlabel='release_year'>"
      ]
     },
     "execution_count": 54,
     "metadata": {},
     "output_type": "execute_result"
    },
    {
     "data": {
      "image/png": "[encoded data removed]",
      "text/plain": [
       "<Figure size 1440x720 with 1 Axes>"
      ]
     },
     "metadata": {
      "needs_background": "light"
     },
     "output_type": "display_data"
    }
   ],
   "source": [
    "# - Count of hbo movies by year\n",
    "master_df.groupby(['release_year'])['release_year'].count().plot.bar(figsize=(20,10))"
   ]
  }
 ],
 "metadata": {
  "interpreter": {
   "hash": "763c58dc754126fdcc508b9f4a084ccf790ec0f71a7031f5e40ea62c092b888e"
  },
  "kernelspec": {
   "display_name": "Python 3.9.12 ('SL_env')",
   "language": "python",
   "name": "python3"
  },
  "language_info": {
   "codemirror_mode": {
    "name": "ipython",
    "version": 3
   },
   "file_extension": ".py",
   "mimetype": "text/x-python",
   "name": "python",
   "nbconvert_exporter": "python",
   "pygments_lexer": "ipython3",
   "version": "3.9.12"
  },
  "orig_nbformat": 4
 },
 "nbformat": 4,
 "nbformat_minor": 2
}
