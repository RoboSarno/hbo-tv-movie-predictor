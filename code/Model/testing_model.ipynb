{
  "cells": [
    {
      "cell_type": "code",
      "execution_count": 5,
      "metadata": {
        "colab": {
          "base_uri": "https://localhost:8080/"
        },
        "id": "TxZ_sAehEVkl",
        "outputId": "e9b6c560-a2af-43a0-9c78-c320b56cfbd8"
      },
      "outputs": [
        {
          "name": "stdout",
          "output_type": "stream",
          "text": [
            "[nltk_data] Downloading package stopwords to /root/nltk_data...\n",
            "[nltk_data]   Package stopwords is already up-to-date!\n"
          ]
        },
        {
          "data": {
            "text/plain": [
              "True"
            ]
          },
          "execution_count": 5,
          "metadata": {},
          "output_type": "execute_result"
        }
      ],
      "source": [
        "import pandas as pd\n",
        "import numpy as np\n",
        "from sklearn.impute import KNNImputer\n",
        "import nltk\n",
        "from nltk.corpus import stopwords\n",
        "from sklearn.feature_extraction.text import CountVectorizer, TfidfVectorizer\n",
        "from sklearn.pipeline import Pipeline\n",
        "from sklearn.compose import ColumnTransformer\n",
        "from sklearn.model_selection import train_test_split, GridSearchCV\n",
        "from sklearn.dummy import DummyRegressor\n",
        "from sklearn.metrics import mean_squared_error\n",
        "from sklearn.linear_model import LinearRegression, LassoCV, Lasso\n",
        "from sklearn.ensemble import RandomForestRegressor, BaggingRegressor\n",
        "from sklearn.preprocessing import StandardScaler\n",
        "from sklearn.metrics import r2_score, mean_squared_error\n",
        "\n",
        "nltk.download('stopwords')"
      ]
    },
    {
      "cell_type": "markdown",
      "metadata": {
        "id": "vfJoIumbEVkp"
      },
      "source": [
        "# Import Data"
      ]
    },
    {
      "cell_type": "code",
      "execution_count": 6,
      "metadata": {
        "id": "96xGYPQ4EVkq"
      },
      "outputs": [],
      "source": [
        "X_train = pd.read_csv('./X_train.csv').drop(columns=['Unnamed: 0', 'production_countries', 'genres'])\n",
        "X_train['description'] = X_train['description'].fillna('')\n",
        "X_test = pd.read_csv('./X_test.csv').drop(columns=['Unnamed: 0', 'production_countries', 'genres'])\n",
        "y_train = pd.read_csv('./y_train.csv').drop(columns=['Unnamed: 0'])\n",
        "y_test = pd.read_csv('./y_test.csv').drop(columns=['Unnamed: 0'])"
      ]
    },
    {
      "cell_type": "markdown",
      "metadata": {
        "id": "9Rp4cH04EVkr"
      },
      "source": [
        "# Get Columns name for Transformations"
      ]
    },
    {
      "cell_type": "code",
      "execution_count": 7,
      "metadata": {
        "id": "0cNTC8aUEVkr"
      },
      "outputs": [],
      "source": [
        "ohe_columns = ['role', 'type']\n",
        "tfid_columns = ['title', 'description']\n",
        "poly_columns = ['seasons', 'runtime', 'release_year', 'person_id']"
      ]
    },
    {
      "cell_type": "markdown",
      "metadata": {
        "id": "1NDtV0mvEVks"
      },
      "source": [
        "# TfidfVectorizer"
      ]
    },
    {
      "cell_type": "code",
      "execution_count": 8,
      "metadata": {
        "id": "UYNHotqyEVkt"
      },
      "outputs": [],
      "source": [
        "stop_words  = stopwords.words('english')\n",
        "ct_count_vec = ColumnTransformer(\n",
        "                            [\n",
        "                                ('tfid_t', TfidfVectorizer(ngram_range=(1,1), min_df=2), tfid_columns[0]),\n",
        "                                ('tfid_d', TfidfVectorizer(stop_words=stop_words, ngram_range=(1,1), min_df=3), tfid_columns[1]),\n",
        "                            ]\n",
        "                        )\n",
        "ct_count_vec.fit(X_train, y_train)\n",
        "X_train_cv = pd.DataFrame(ct_count_vec.transform(X_train).A, columns=ct_count_vec.get_feature_names_out())\n",
        "X_test_cv = pd.DataFrame(ct_count_vec.transform(X_test).A, columns=ct_count_vec.get_feature_names_out())\n",
        "X_train.drop(columns=tfid_columns, inplace=True)\n",
        "X_test.drop(columns=tfid_columns, inplace=True)\n",
        "\n",
        "X_train = pd.concat([X_train, X_train_cv], axis=1) \n",
        "X_test = pd.concat([X_test, X_test_cv], axis=1) "
      ]
    },
    {
      "cell_type": "markdown",
      "metadata": {
        "id": "ESWwv_w5EVku"
      },
      "source": [
        "# Getdummies"
      ]
    },
    {
      "cell_type": "code",
      "execution_count": 9,
      "metadata": {
        "id": "USob8ioZEVkv"
      },
      "outputs": [],
      "source": [
        "X_train = pd.concat([X_train, pd.get_dummies(X_train, columns=ohe_columns, drop_first=True)], axis=1).drop(columns=ohe_columns)\n",
        "X_test = pd.concat([X_test, pd.get_dummies(X_test, columns=ohe_columns, drop_first=True)], axis=1).drop(columns=ohe_columns)"
      ]
    },
    {
      "cell_type": "markdown",
      "metadata": {
        "id": "DN5QddzrEVkw"
      },
      "source": [
        "# Model Testing"
      ]
    },
    {
      "cell_type": "markdown",
      "metadata": {
        "id": "XQ5HDyLVEVkw"
      },
      "source": [
        "## Model 1"
      ]
    },
    {
      "cell_type": "code",
      "execution_count": 6,
      "metadata": {
        "colab": {
          "base_uri": "https://localhost:8080/"
        },
        "id": "Hh9MlqJoEVkw",
        "outputId": "3e0acec8-b7ba-4609-f713-b7e6cf9bf1a2"
      },
      "outputs": [
        {
          "data": {
            "text/plain": [
              "(0.9700976171488305, 33.08838564714761)"
            ]
          },
          "execution_count": 6,
          "metadata": {},
          "output_type": "execute_result"
        }
      ],
      "source": [
        "rf = RandomForestRegressor(max_depth=10)\n",
        "rf.fit(X_train, y_train['tmdb_popularity'])\n",
        "preds = rf.predict(X_test)\n",
        "r2_score(y_test['tmdb_popularity'], preds), mean_squared_error(y_test['tmdb_popularity'], preds, squared=False)"
      ]
    },
    {
      "cell_type": "markdown",
      "metadata": {
        "id": "uToyUFhiEVkx"
      },
      "source": [
        "## Model 2"
      ]
    },
    {
      "cell_type": "code",
      "execution_count": 7,
      "metadata": {
        "colab": {
          "base_uri": "https://localhost:8080/"
        },
        "id": "QV14c9r3EVky",
        "outputId": "e50554d6-4613-427c-f315-79e46e3324dd"
      },
      "outputs": [
        {
          "data": {
            "text/plain": [
              "(0.9869131397326231, 21.889730399251995)"
            ]
          },
          "execution_count": 7,
          "metadata": {},
          "output_type": "execute_result"
        }
      ],
      "source": [
        "pipe = Pipeline([\n",
        "    ('ss', StandardScaler()),\n",
        "    ('lasso', LassoCV()),\n",
        "])\n",
        "pipe.fit(X_train, y_train['tmdb_popularity'])\n",
        "preds = pipe.predict(X_test)\n",
        "r2_score(y_test['tmdb_popularity'], preds), mean_squared_error(y_test['tmdb_popularity'], preds, squared=False)"
      ]
    },
    {
      "cell_type": "markdown",
      "metadata": {
        "id": "CmfJQp2lEVkz"
      },
      "source": [
        "## Model 3"
      ]
    },
    {
      "cell_type": "code",
      "execution_count": 8,
      "metadata": {
        "colab": {
          "base_uri": "https://localhost:8080/"
        },
        "id": "ZdvQSNIiEVkz",
        "outputId": "9ee5bb20-5fac-4004-dbfa-22806d57d448"
      },
      "outputs": [
        {
          "data": {
            "text/plain": [
              "(0.9741896713590367, 30.7411030832573)"
            ]
          },
          "execution_count": 8,
          "metadata": {},
          "output_type": "execute_result"
        }
      ],
      "source": [
        "pipe2 = Pipeline([\n",
        "    ('ss', StandardScaler()),\n",
        "    ('lasso', Lasso()),\n",
        "])\n",
        "pipe2.fit(X_train, y_train['tmdb_popularity'])\n",
        "preds = pipe2.predict(X_test)\n",
        "r2_score(y_test['tmdb_popularity'], preds), mean_squared_error(y_test['tmdb_popularity'], preds, squared=False)"
      ]
    },
    {
      "cell_type": "markdown",
      "metadata": {
        "id": "n1qz7RjEEVkz"
      },
      "source": [
        "## Model 4"
      ]
    },
    {
      "cell_type": "code",
      "execution_count": 10,
      "metadata": {
        "colab": {
          "base_uri": "https://localhost:8080/"
        },
        "id": "3ziV5RjgEVk0",
        "outputId": "153109dc-ac75-4e24-e6d0-e725e5db8f52"
      },
      "outputs": [
        {
          "name": "stderr",
          "output_type": "stream",
          "text": [
            "/usr/local/lib/python3.7/dist-packages/joblib/externals/loky/process_executor.py:705: UserWarning: A worker stopped while some jobs were given to the executor. This can be caused by a too short worker timeout or by a memory leak.\n",
            "  \"timeout or by a memory leak.\", UserWarning\n",
            "/usr/local/lib/python3.7/dist-packages/sklearn/linear_model/_base.py:155: FutureWarning: 'normalize' was deprecated in version 1.0 and will be removed in 1.2. Please leave the normalize parameter to its default value to silence this warning. The default behavior of this estimator is to not do any normalization. If normalization is needed please use sklearn.preprocessing.StandardScaler instead.\n",
            "  FutureWarning,\n"
          ]
        },
        {
          "data": {
            "text/plain": [
              "(0.8933472680444862, 62.48973346765479)"
            ]
          },
          "execution_count": 10,
          "metadata": {},
          "output_type": "execute_result"
        }
      ],
      "source": [
        "pipe3 = Pipeline([\n",
        "    ('ss', StandardScaler()),\n",
        "    ('lasso', Lasso()),\n",
        "])\n",
        "pipe3_parameters = {\n",
        "    'lasso__alpha': np.logspace(1, 10, 15),\n",
        "    'lasso__fit_intercept': [True, False],\n",
        "    'lasso__normalize': [True, False],\n",
        "    'lasso__selection':['cyclic', 'random']\n",
        "}\n",
        "\n",
        "gs = GridSearchCV( \n",
        "    pipe3, \n",
        "    pipe3_parameters,\n",
        "    n_jobs = -1\n",
        ")\n",
        "gs.fit(X_train, y_train['tmdb_popularity'])\n",
        "preds = gs.predict(X_test)\n",
        "r2_score(y_test['tmdb_popularity'], preds), mean_squared_error(y_test['tmdb_popularity'], preds, squared=False)"
      ]
    }
  ],
  "metadata": {
    "accelerator": "GPU",
    "colab": {
      "machine_shape": "hm",
      "name": "testing_model.ipynb",
      "provenance": []
    },
    "kernelspec": {
      "display_name": "Python 3",
      "name": "python3"
    },
    "language_info": {
      "name": "python"
    },
    "orig_nbformat": 4
  },
  "nbformat": 4,
  "nbformat_minor": 0
}
