{
  "cells": [
    {
      "cell_type": "markdown",
      "metadata": {
        "id": "2eTLbbAHoir2"
      },
      "source": [
        "# Import Libraries"
      ]
    },
    {
      "cell_type": "code",
      "execution_count": 1,
      "metadata": {
        "colab": {
          "base_uri": "https://localhost:8080/"
        },
        "id": "ZVQovmfZoir4",
        "outputId": "9a7738f5-c0a9-4a7f-f84e-d3d384e5794a"
      },
      "outputs": [
        {
          "name": "stdout",
          "output_type": "stream",
          "text": [
            "[nltk_data] Downloading package stopwords to /root/nltk_data...\n",
            "[nltk_data]   Unzipping corpora/stopwords.zip.\n"
          ]
        },
        {
          "data": {
            "text/plain": [
              "True"
            ]
          },
          "execution_count": 1,
          "metadata": {},
          "output_type": "execute_result"
        }
      ],
      "source": [
        "import pandas as pd\n",
        "import numpy as np\n",
        "from sklearn.impute import KNNImputer\n",
        "import nltk\n",
        "from nltk.corpus import stopwords\n",
        "from sklearn.feature_extraction.text import CountVectorizer, TfidfVectorizer\n",
        "from sklearn.pipeline import Pipeline\n",
        "from sklearn.compose import ColumnTransformer\n",
        "from sklearn.model_selection import train_test_split\n",
        "from sklearn.dummy import DummyRegressor\n",
        "from sklearn.metrics import mean_squared_error\n",
        "nltk.download('stopwords')"
      ]
    },
    {
      "cell_type": "code",
      "execution_count": 2,
      "metadata": {
        "id": "0X6ZXqZOoir6"
      },
      "outputs": [],
      "source": [
        "X_train = pd.read_csv('../../data/model_data/X_train.csv').drop(columns=['Unnamed: 0', 'production_countries', 'genres'])\n",
        "X_train['description'] = X_train['description'].fillna('')\n",
        "X_test = pd.read_csv('../../data/model_data/X_test.csv').drop(columns=['Unnamed: 0', 'production_countries', 'genres'])\n",
        "y_train = pd.read_csv('../../data/model_data/y_train.csv').drop(columns=['Unnamed: 0'])\n",
        "y_test = pd.read_csv('../../data/model_data/y_test.csv').drop(columns=['Unnamed: 0'])\n"
      ]
    },
    {
      "cell_type": "code",
      "execution_count": 3,
      "metadata": {
        "id": "p8I8M6xkoir7"
      },
      "outputs": [],
      "source": [
        "ohe_columns = ['role', 'type']\n",
        "tfid_columns = ['title', 'description']\n",
        "poly_columns = ['seasons', 'runtime', 'release_year', 'person_id']"
      ]
    },
    {
      "cell_type": "markdown",
      "metadata": {
        "id": "glPamP_xoir7"
      },
      "source": [
        "# Feature Engineering"
      ]
    },
    {
      "cell_type": "markdown",
      "metadata": {
        "id": "aSQlqodmoir8"
      },
      "source": [
        "## Vectorizer"
      ]
    },
    {
      "cell_type": "code",
      "execution_count": 4,
      "metadata": {
        "id": "EfDTYinAoir8"
      },
      "outputs": [],
      "source": [
        "stop_words  = stopwords.words('english')\n",
        "ct_count_vec = ColumnTransformer(\n",
        "                            [\n",
        "                                ('tfid_t', TfidfVectorizer(ngram_range=(1,1), min_df=2), tfid_columns[0]),\n",
        "                                ('tfid_d', TfidfVectorizer(stop_words=stop_words, ngram_range=(1,1), min_df=3), tfid_columns[1]),\n",
        "                            ]\n",
        "                        )\n",
        "ct_count_vec.fit(X_train, y_train)\n",
        "X_train_cv = pd.DataFrame(ct_count_vec.transform(X_train).A, columns=ct_count_vec.get_feature_names_out())\n",
        "X_test_cv = pd.DataFrame(ct_count_vec.transform(X_test).A, columns=ct_count_vec.get_feature_names_out())\n",
        "X_train.drop(columns=tfid_columns, inplace=True)\n",
        "X_test.drop(columns=tfid_columns, inplace=True)\n",
        "\n",
        "X_train = pd.concat([X_train, X_train_cv], axis=1) \n",
        "X_test = pd.concat([X_test, X_test_cv], axis=1) "
      ]
    },
    {
      "cell_type": "markdown",
      "metadata": {
        "id": "i-I71itvoir-"
      },
      "source": [
        "## OHE"
      ]
    },
    {
      "cell_type": "code",
      "execution_count": 5,
      "metadata": {
        "id": "Q7Y-YLMxoir-"
      },
      "outputs": [],
      "source": [
        "X_train = pd.concat([X_train, pd.get_dummies(X_train, columns=ohe_columns, drop_first=True)], axis=1).drop(columns=ohe_columns)\n",
        "X_test = pd.concat([X_test, pd.get_dummies(X_test, columns=ohe_columns, drop_first=True)], axis=1).drop(columns=ohe_columns)"
      ]
    },
    {
      "cell_type": "markdown",
      "metadata": {
        "id": "lpt6Fmjysn8E"
      },
      "source": [
        "# Baseline"
      ]
    },
    {
      "cell_type": "code",
      "execution_count": 6,
      "metadata": {
        "colab": {
          "base_uri": "https://localhost:8080/"
        },
        "id": "8kyOTUBgoisA",
        "outputId": "f1028e0d-4c8b-4f83-dcd5-3b7ace6a7f22"
      },
      "outputs": [
        {
          "data": {
            "text/plain": [
              "(-0.002248232031702546, 191.56242644478877)"
            ]
          },
          "execution_count": 6,
          "metadata": {},
          "output_type": "execute_result"
        }
      ],
      "source": [
        "from sklearn.metrics import r2_score, mean_squared_error\n",
        "dummy_regr = DummyRegressor(strategy=\"mean\")\n",
        "dummy_regr.fit(X_train, y_train['tmdb_popularity'])\n",
        "preds = dummy_regr.predict(X_test)\n",
        "r2_score(y_test['tmdb_popularity'], preds), mean_squared_error(y_test['tmdb_popularity'], preds, squared=False)"
      ]
    }
  ],
  "metadata": {
    "accelerator": "GPU",
    "colab": {
      "collapsed_sections": [],
      "machine_shape": "hm",
      "name": "1baseline_model.ipynb",
      "provenance": []
    },
    "interpreter": {
      "hash": "763c58dc754126fdcc508b9f4a084ccf790ec0f71a7031f5e40ea62c092b888e"
    },
    "kernelspec": {
      "display_name": "Python 3.9.12 ('SL_env')",
      "language": "python",
      "name": "python3"
    },
    "language_info": {
      "codemirror_mode": {
        "name": "ipython",
        "version": 3
      },
      "file_extension": ".py",
      "mimetype": "text/x-python",
      "name": "python",
      "nbconvert_exporter": "python",
      "pygments_lexer": "ipython3",
      "version": "3.9.12"
    },
    "orig_nbformat": 4
  },
  "nbformat": 4,
  "nbformat_minor": 0
}
