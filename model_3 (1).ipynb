{
  "cells": [
    {
      "cell_type": "code",
      "execution_count": 369,
      "metadata": {
        "colab": {
          "base_uri": "https://localhost:8080/"
        },
        "id": "pg-9joNthiVm",
        "outputId": "96675356-fa6d-433f-ad11-8afd57e94951"
      },
      "outputs": [
        {
          "output_type": "stream",
          "name": "stdout",
          "text": [
            "[nltk_data] Downloading package stopwords to /root/nltk_data...\n",
            "[nltk_data]   Package stopwords is already up-to-date!\n"
          ]
        }
      ],
      "source": [
        "import nltk\n",
        "from nltk.corpus import stopwords\n",
        "nltk.download('stopwords')\n",
        "from sklearn.compose import ColumnTransformer\n",
        "from sklearn.feature_extraction.text import  TfidfVectorizer\n",
        "from sklearn.pipeline import Pipeline\n",
        "from sklearn.metrics import r2_score, mean_squared_error\n",
        "import pandas as pd\n",
        "import numpy as np\n",
        "from sklearn.model_selection import train_test_split, GridSearchCV\n",
        "from sklearn.preprocessing import OneHotEncoder\n",
        "import scipy.sparse as sp\n",
        "from sklearn.preprocessing import StandardScaler\n",
        "from sklearn.linear_model import LinearRegression, LassoCV, Lasso"
      ]
    },
    {
      "cell_type": "code",
      "execution_count": 370,
      "metadata": {
        "id": "gWB5BMXphiVu"
      },
      "outputs": [],
      "source": [
        "tfid_columns = ['title', 'description', 'genres', 'production_countries']\n",
        "ohe_columns = ['role', 'type']"
      ]
    },
    {
      "cell_type": "code",
      "execution_count": 371,
      "metadata": {
        "id": "PfZRavmLhiVv"
      },
      "outputs": [],
      "source": [
        "df = pd.read_csv('./model_ready_data.csv')"
      ]
    },
    {
      "cell_type": "code",
      "execution_count": 372,
      "metadata": {
        "colab": {
          "base_uri": "https://localhost:8080/"
        },
        "id": "lIMh2isohiVv",
        "outputId": "30a184b6-6ee6-41b4-aaad-8d9a48f9feda"
      },
      "outputs": [
        {
          "output_type": "execute_result",
          "data": {
            "text/plain": [
              "person_id               0\n",
              "role                    0\n",
              "title                   0\n",
              "type                    0\n",
              "description             0\n",
              "release_year            0\n",
              "runtime                 0\n",
              "genres                  0\n",
              "production_countries    0\n",
              "imdb_score              0\n",
              "imdb_votes              0\n",
              "tmdb_popularity         0\n",
              "tmdb_score              0\n",
              "dtype: int64"
            ]
          },
          "metadata": {},
          "execution_count": 372
        }
      ],
      "source": [
        "df['description'].fillna('', inplace=True)\n",
        "df['genres'].fillna('', inplace=True)\n",
        "df['production_countries'].fillna('', inplace=True)\n",
        "df.isna().sum()\n"
      ]
    },
    {
      "cell_type": "markdown",
      "source": [
        "## Data size"
      ],
      "metadata": {
        "id": "_1rUW5SedO7a"
      }
    },
    {
      "cell_type": "code",
      "execution_count": 373,
      "metadata": {
        "colab": {
          "base_uri": "https://localhost:8080/"
        },
        "id": "BpbkUD_shiVw",
        "outputId": "d6d02243-1bf1-4260-f7a5-5908223cb246"
      },
      "outputs": [
        {
          "output_type": "execute_result",
          "data": {
            "text/plain": [
              "(3094, 13)"
            ]
          },
          "metadata": {},
          "execution_count": 373
        }
      ],
      "source": [
        "df = df.sample(frac=0.05)\n",
        "df.shape"
      ]
    },
    {
      "cell_type": "markdown",
      "source": [
        "# Supervised Learning"
      ],
      "metadata": {
        "id": "j6sfL2gj5YJt"
      }
    },
    {
      "cell_type": "markdown",
      "source": [
        "## Single Linear Regression"
      ],
      "metadata": {
        "id": "agvP1zWtc8Gp"
      }
    },
    {
      "cell_type": "code",
      "source": [
        "X = df.drop(columns=['imdb_score', 'imdb_votes', 'tmdb_popularity', 'tmdb_score'])\n",
        "y = df['imdb_votes']\n",
        "X_train, X_test, y_train, y_test = train_test_split(X, y, test_size=0.2, random_state=200)\n",
        "X_train.shape, X_test.shape, y_train.shape, y_test.shape"
      ],
      "metadata": {
        "colab": {
          "base_uri": "https://localhost:8080/"
        },
        "id": "BxHnou-5dIMo",
        "outputId": "7b1f7de7-34cd-4e45-e997-d93c43bdaa44"
      },
      "execution_count": 363,
      "outputs": [
        {
          "output_type": "execute_result",
          "data": {
            "text/plain": [
              "((2475, 9), (619, 9), (2475,), (619,))"
            ]
          },
          "metadata": {},
          "execution_count": 363
        }
      ]
    },
    {
      "cell_type": "code",
      "execution_count": 364,
      "metadata": {
        "id": "LpyCKl5rhiVy"
      },
      "outputs": [],
      "source": [
        "stop_words  = stopwords.words('english')\n",
        "ohe_ct = ColumnTransformer(\n",
        "                      [\n",
        "                        ('ohe', OneHotEncoder(sparse=False), ohe_columns)\n",
        "                      ]\n",
        "                    )\n",
        "X_train_ohe = pd.DataFrame(ohe_ct.fit_transform(X_train), columns=ohe_ct.get_feature_names_out())\n",
        "X_test_ohe = pd.DataFrame(ohe_ct.transform(X_test), columns=ohe_ct.get_feature_names_out())\n",
        "tfid_ct = ColumnTransformer(\n",
        "                      [\n",
        "                        ('tfid_t', TfidfVectorizer(ngram_range=(1,1), min_df=5), tfid_columns[0]),\n",
        "                        ('tfid_d', TfidfVectorizer(stop_words=stop_words, ngram_range=(1,1), min_df=10), tfid_columns[1]),\n",
        "                        ('tfid_g', TfidfVectorizer(ngram_range=(1,1)), tfid_columns[2]),\n",
        "                        ('tfid_pc', TfidfVectorizer(ngram_range=(1,1)), tfid_columns[3])\n",
        "                      ]\n",
        "                    )\n",
        "X_train_tfid = pd.DataFrame.sparse.from_spmatrix(tfid_ct.fit_transform(X_train), columns=tfid_ct.get_feature_names_out())\n",
        "X_test_tfid = pd.DataFrame.sparse.from_spmatrix(tfid_ct.transform(X_test), columns=tfid_ct.get_feature_names_out())\n",
        "\n",
        "\n",
        "X_train.drop(columns=tfid_columns + ohe_columns, inplace=True)\n",
        "X_test.drop(columns=tfid_columns + ohe_columns, inplace=True)\n",
        "\n",
        "\n",
        "X_train = pd.concat([X_train.reset_index(drop=True), X_train_ohe.reset_index(drop=True), X_train_tfid.reset_index(drop=True)], axis=1)\n",
        "X_test = pd.concat([X_test.reset_index(drop=True), X_test_ohe.reset_index(drop=True), X_test_tfid.reset_index(drop=True)], axis=1)\n"
      ]
    },
    {
      "cell_type": "code",
      "source": [
        "lin_reg = LinearRegression(fit_intercept=True)\n",
        "lin_reg.fit(X_train, y_train)\n",
        "preds = lin_reg.predict(X_test)\n",
        "lin_reg.score(X_train, y_train), lin_reg.score(X_test, y_test), r2_score(y_test, preds), mean_squared_error(y_test, preds, squared=False)"
      ],
      "metadata": {
        "colab": {
          "base_uri": "https://localhost:8080/"
        },
        "id": "F_CK7mJFcrY0",
        "outputId": "bc008661-5db9-4b35-cdec-65ba57674a69"
      },
      "execution_count": 365,
      "outputs": [
        {
          "output_type": "stream",
          "name": "stderr",
          "text": [
            "/usr/local/lib/python3.7/dist-packages/sklearn/utils/validation.py:625: UserWarning: pandas.DataFrame with sparse columns found.It will be converted to a dense numpy array.\n",
            "  \"pandas.DataFrame with sparse columns found.\"\n",
            "/usr/local/lib/python3.7/dist-packages/sklearn/utils/validation.py:625: UserWarning: pandas.DataFrame with sparse columns found.It will be converted to a dense numpy array.\n",
            "  \"pandas.DataFrame with sparse columns found.\"\n",
            "/usr/local/lib/python3.7/dist-packages/sklearn/utils/validation.py:625: UserWarning: pandas.DataFrame with sparse columns found.It will be converted to a dense numpy array.\n",
            "  \"pandas.DataFrame with sparse columns found.\"\n",
            "/usr/local/lib/python3.7/dist-packages/sklearn/utils/validation.py:625: UserWarning: pandas.DataFrame with sparse columns found.It will be converted to a dense numpy array.\n",
            "  \"pandas.DataFrame with sparse columns found.\"\n"
          ]
        },
        {
          "output_type": "execute_result",
          "data": {
            "text/plain": [
              "(0.9927431981693902,\n",
              " 0.6051758599979884,\n",
              " 0.6051758599979884,\n",
              " 172612.37362386246)"
            ]
          },
          "metadata": {},
          "execution_count": 365
        }
      ]
    },
    {
      "cell_type": "markdown",
      "source": [
        "## Multi Linear Regression"
      ],
      "metadata": {
        "id": "kPGcE7ULc_Zg"
      }
    },
    {
      "cell_type": "code",
      "source": [
        "X = df.drop(columns=['imdb_score', 'imdb_votes', 'tmdb_popularity', 'tmdb_score'])\n",
        "y = df[['imdb_score', 'imdb_votes', 'tmdb_popularity', 'tmdb_score']]\n",
        "X_train, X_test, y_train, y_test = train_test_split(X, y, test_size=0.2, random_state=200)\n",
        "X_train.shape, X_test.shape, y_train.shape, y_test.shape"
      ],
      "metadata": {
        "colab": {
          "base_uri": "https://localhost:8080/"
        },
        "id": "TGOC2aQScfFT",
        "outputId": "577d925e-a345-43f5-903d-817827671830"
      },
      "execution_count": 374,
      "outputs": [
        {
          "output_type": "execute_result",
          "data": {
            "text/plain": [
              "((2475, 9), (619, 9), (2475, 4), (619, 4))"
            ]
          },
          "metadata": {},
          "execution_count": 374
        }
      ]
    },
    {
      "cell_type": "code",
      "source": [
        "stop_words  = stopwords.words('english')\n",
        "ohe_ct = ColumnTransformer(\n",
        "                      [\n",
        "                        ('ohe', OneHotEncoder(sparse=False), ohe_columns)\n",
        "                      ]\n",
        "                    )\n",
        "X_train_ohe = pd.DataFrame(ohe_ct.fit_transform(X_train), columns=ohe_ct.get_feature_names_out())\n",
        "X_test_ohe = pd.DataFrame(ohe_ct.transform(X_test), columns=ohe_ct.get_feature_names_out())\n",
        "tfid_ct = ColumnTransformer(\n",
        "                      [\n",
        "                        ('tfid_t', TfidfVectorizer(ngram_range=(1,1), min_df=5), tfid_columns[0]),\n",
        "                        ('tfid_d', TfidfVectorizer(stop_words=stop_words, ngram_range=(1,1), min_df=10), tfid_columns[1]),\n",
        "                        ('tfid_g', TfidfVectorizer(ngram_range=(1,1)), tfid_columns[2]),\n",
        "                        ('tfid_pc', TfidfVectorizer(ngram_range=(1,1)), tfid_columns[3])\n",
        "                      ]\n",
        "                    )\n",
        "X_train_tfid = pd.DataFrame.sparse.from_spmatrix(tfid_ct.fit_transform(X_train), columns=tfid_ct.get_feature_names_out())\n",
        "X_test_tfid = pd.DataFrame.sparse.from_spmatrix(tfid_ct.transform(X_test), columns=tfid_ct.get_feature_names_out())\n",
        "\n",
        "\n",
        "X_train.drop(columns=tfid_columns + ohe_columns, inplace=True)\n",
        "X_test.drop(columns=tfid_columns + ohe_columns, inplace=True)\n",
        "\n",
        "\n",
        "X_train = pd.concat([X_train.reset_index(drop=True), X_train_ohe.reset_index(drop=True), X_train_tfid.reset_index(drop=True)], axis=1)\n",
        "X_test = pd.concat([X_test.reset_index(drop=True), X_test_ohe.reset_index(drop=True), X_test_tfid.reset_index(drop=True)], axis=1)\n"
      ],
      "metadata": {
        "id": "IcKWT9sBh4_g"
      },
      "execution_count": 375,
      "outputs": []
    },
    {
      "cell_type": "code",
      "source": [
        "class MultiRegression:\n",
        "  def __init__(self, columns=[]):\n",
        "    self.columns = columns\n",
        "    self.lin_reg1 = LinearRegression(fit_intercept=True)\n",
        "    self.lin_reg2 = LinearRegression(fit_intercept=True)\n",
        "    self.lin_reg3 = LinearRegression(fit_intercept=True)\n",
        "    self.lin_reg4 = LinearRegression(fit_intercept=True)\n",
        "\n",
        "    self.pred1 = None\n",
        "    self.pred2 = None\n",
        "    self.pred3 = None\n",
        "    self.pred4 = None\n",
        "\n",
        "    self.pipe1 = None\n",
        "    self.pipe2 = None\n",
        "    self.pipe3 = None\n",
        "    self.pipe4 = None\n",
        "\n",
        "  def fit(self, X_train, y_train):\n",
        "    self.pipe1 = Pipeline(\n",
        "        [\n",
        "          ('ss', StandardScaler()),\n",
        "          ('lin_reg', self.lin_reg1)\n",
        "        ]\n",
        "    )\n",
        "    self.pipe2 = Pipeline(\n",
        "        [\n",
        "          ('ss', StandardScaler()),\n",
        "          ('lin_reg', self.lin_reg2)\n",
        "        ]\n",
        "    )\n",
        "    self.pipe3 = Pipeline(\n",
        "        [\n",
        "          ('ss', StandardScaler()),\n",
        "          ('lin_reg', self.lin_reg3)\n",
        "        ]\n",
        "    )\n",
        "    self.pipe4 = Pipeline(\n",
        "        [\n",
        "          ('ss', StandardScaler()),\n",
        "          ('lin_reg', self.lin_reg4)\n",
        "        ]\n",
        "    )\n",
        "    self.pipe1.fit(X_train, y_train[self.columns[0]])\n",
        "    self.pipe2.fit(X_train, y_train[self.columns[1]])\n",
        "    self.pipe3.fit(X_train, y_train[self.columns[2]])\n",
        "    self.pipe4.fit(X_train, y_train[self.columns[3]])\n",
        "\n",
        "  def predict(self, X_test, y_test):\n",
        "    self.pred1 = self.pipe1.predict(X_test)\n",
        "    self.pred2 = self.pipe2.predict(X_test)\n",
        "    self.pred3 = self.pipe3.predict(X_test)\n",
        "    self.pred4 = self.pipe4.predict(X_test)\n",
        "    \n",
        "    print(r2_score(y_test[self.columns[0]], self.pred1), self.columns[0])\n",
        "    print(r2_score(y_test[self.columns[1]], self.pred2), self.columns[1])\n",
        "    print(r2_score(y_test[self.columns[2]], self.pred3), self.columns[2])\n",
        "    print(r2_score(y_test[self.columns[3]], self.pred4), self.columns[3])\n",
        "\n",
        "    # return pd.concat(\n",
        "    #     [\n",
        "    #      pd.DataFrame(self.pred1, columns=[self.columns[0]]), \n",
        "    #      pd.DataFrame(self.pred2, columns=[self.columns[1]]), \n",
        "    #      pd.DataFrame(self.pred3, columns=[self.columns[2]]), \n",
        "    #      pd.DataFrame(self.pred4, columns=[self.columns[3]])\n",
        "    #     ], axis=1)\n",
        "# imdb_votes\n",
        "\n",
        "mult_lin_reg = MultiRegression(columns=['imdb_score', 'imdb_votes', 'tmdb_popularity', 'tmdb_score'])\n",
        "mult_lin_reg.fit(X_train, y_train)\n",
        "preds = mult_lin_reg.predict(X_test, y_test)"
      ],
      "metadata": {
        "colab": {
          "base_uri": "https://localhost:8080/"
        },
        "id": "9X9qk7T0cfBH",
        "outputId": "682e6b66-bae2-47a1-eb48-742158e9f261"
      },
      "execution_count": 376,
      "outputs": [
        {
          "output_type": "stream",
          "name": "stderr",
          "text": [
            "/usr/local/lib/python3.7/dist-packages/sklearn/utils/validation.py:625: UserWarning: pandas.DataFrame with sparse columns found.It will be converted to a dense numpy array.\n",
            "  \"pandas.DataFrame with sparse columns found.\"\n",
            "/usr/local/lib/python3.7/dist-packages/sklearn/utils/validation.py:625: UserWarning: pandas.DataFrame with sparse columns found.It will be converted to a dense numpy array.\n",
            "  \"pandas.DataFrame with sparse columns found.\"\n",
            "/usr/local/lib/python3.7/dist-packages/sklearn/utils/validation.py:625: UserWarning: pandas.DataFrame with sparse columns found.It will be converted to a dense numpy array.\n",
            "  \"pandas.DataFrame with sparse columns found.\"\n",
            "/usr/local/lib/python3.7/dist-packages/sklearn/utils/validation.py:625: UserWarning: pandas.DataFrame with sparse columns found.It will be converted to a dense numpy array.\n",
            "  \"pandas.DataFrame with sparse columns found.\"\n",
            "/usr/local/lib/python3.7/dist-packages/sklearn/utils/validation.py:625: UserWarning: pandas.DataFrame with sparse columns found.It will be converted to a dense numpy array.\n",
            "  \"pandas.DataFrame with sparse columns found.\"\n",
            "/usr/local/lib/python3.7/dist-packages/sklearn/utils/validation.py:625: UserWarning: pandas.DataFrame with sparse columns found.It will be converted to a dense numpy array.\n",
            "  \"pandas.DataFrame with sparse columns found.\"\n",
            "/usr/local/lib/python3.7/dist-packages/sklearn/utils/validation.py:625: UserWarning: pandas.DataFrame with sparse columns found.It will be converted to a dense numpy array.\n",
            "  \"pandas.DataFrame with sparse columns found.\"\n",
            "/usr/local/lib/python3.7/dist-packages/sklearn/utils/validation.py:625: UserWarning: pandas.DataFrame with sparse columns found.It will be converted to a dense numpy array.\n",
            "  \"pandas.DataFrame with sparse columns found.\"\n",
            "/usr/local/lib/python3.7/dist-packages/sklearn/utils/validation.py:625: UserWarning: pandas.DataFrame with sparse columns found.It will be converted to a dense numpy array.\n",
            "  \"pandas.DataFrame with sparse columns found.\"\n",
            "/usr/local/lib/python3.7/dist-packages/sklearn/utils/validation.py:625: UserWarning: pandas.DataFrame with sparse columns found.It will be converted to a dense numpy array.\n",
            "  \"pandas.DataFrame with sparse columns found.\"\n",
            "/usr/local/lib/python3.7/dist-packages/sklearn/utils/validation.py:625: UserWarning: pandas.DataFrame with sparse columns found.It will be converted to a dense numpy array.\n",
            "  \"pandas.DataFrame with sparse columns found.\"\n",
            "/usr/local/lib/python3.7/dist-packages/sklearn/utils/validation.py:625: UserWarning: pandas.DataFrame with sparse columns found.It will be converted to a dense numpy array.\n",
            "  \"pandas.DataFrame with sparse columns found.\"\n"
          ]
        },
        {
          "output_type": "stream",
          "name": "stdout",
          "text": [
            "-4.214239096312847e+25 imdb_score\n",
            "-8.45933879252115e+24 imdb_votes\n",
            "-4.468719047840346 tmdb_popularity\n",
            "-8.114412898756825e+24 tmdb_score\n"
          ]
        }
      ]
    },
    {
      "cell_type": "code",
      "source": [
        "X_train"
      ],
      "metadata": {
        "colab": {
          "base_uri": "https://localhost:8080/",
          "height": 487
        },
        "id": "V7YNzEyOuV94",
        "outputId": "3d1e1186-c497-4d22-9996-b987fbf20fc3"
      },
      "execution_count": 354,
      "outputs": [
        {
          "output_type": "execute_result",
          "data": {
            "text/plain": [
              "      person_id  release_year  runtime  ohe__role_ACTOR  ohe__type_MOVIE  \\\n",
              "0       16019.0        1986.0    111.0              1.0              1.0   \n",
              "1      125722.0        1953.0     94.0              1.0              1.0   \n",
              "2        9739.0        2009.0    100.0              1.0              1.0   \n",
              "3      153265.0        1939.0     83.0              1.0              1.0   \n",
              "4       12018.0        2006.0     28.0              1.0              0.0   \n",
              "...         ...           ...      ...              ...              ...   \n",
              "2470    60089.0        2008.0    104.0              1.0              1.0   \n",
              "2471    14142.0        2021.0     80.0              1.0              1.0   \n",
              "2472    33873.0        1988.0     98.0              1.0              1.0   \n",
              "2473     2889.0        2011.0    106.0              1.0              1.0   \n",
              "2474   632392.0        2016.0    123.0              1.0              1.0   \n",
              "\n",
              "      ohe__type_SHOW  tfid_t__10  tfid_t__12  tfid_t__1984  tfid_t__2001  ...  \\\n",
              "0                0.0         0.0         0.0           0.0           0.0  ...   \n",
              "1                0.0         0.0         0.0           0.0           0.0  ...   \n",
              "2                0.0         0.0         0.0           0.0           0.0  ...   \n",
              "3                0.0         0.0         0.0           0.0           0.0  ...   \n",
              "4                1.0         0.0         0.0           0.0           0.0  ...   \n",
              "...              ...         ...         ...           ...           ...  ...   \n",
              "2470             0.0         0.0         0.0           0.0           0.0  ...   \n",
              "2471             0.0         0.0         0.0           0.0           0.0  ...   \n",
              "2472             0.0         0.0         0.0           0.0           0.0  ...   \n",
              "2473             0.0         0.0         0.0           0.0           0.0  ...   \n",
              "2474             0.0         0.0         0.0           0.0           0.0  ...   \n",
              "\n",
              "      tfid_pc__se  tfid_pc__sn  tfid_pc__su  tfid_pc__tr  tfid_pc__tw  \\\n",
              "0             0.0          0.0          0.0          0.0          0.0   \n",
              "1             0.0          0.0          0.0          0.0          0.0   \n",
              "2             0.0          0.0          0.0          0.0          0.0   \n",
              "3             0.0          0.0          0.0          0.0          0.0   \n",
              "4             0.0          0.0          0.0          0.0          0.0   \n",
              "...           ...          ...          ...          ...          ...   \n",
              "2470          0.0          0.0          0.0          0.0          0.0   \n",
              "2471          0.0          0.0          0.0          0.0          0.0   \n",
              "2472          0.0          0.0          0.0          0.0          0.0   \n",
              "2473          0.0          0.0          0.0          0.0          0.0   \n",
              "2474          0.0          0.0          0.0          0.0          0.0   \n",
              "\n",
              "      tfid_pc__us  tfid_pc__uy  tfid_pc__xc  tfid_pc__xx  tfid_pc__za  \n",
              "0        1.000000          0.0          0.0          0.0          0.0  \n",
              "1        0.000000          0.0          0.0          0.0          0.0  \n",
              "2        0.292857          0.0          0.0          0.0          0.0  \n",
              "3        1.000000          0.0          0.0          0.0          0.0  \n",
              "4        1.000000          0.0          0.0          0.0          0.0  \n",
              "...           ...          ...          ...          ...          ...  \n",
              "2470     0.000000          0.0          0.0          0.0          0.0  \n",
              "2471     1.000000          0.0          0.0          0.0          0.0  \n",
              "2472     0.000000          0.0          0.0          0.0          0.0  \n",
              "2473     0.187247          0.0          0.0          0.0          0.0  \n",
              "2474     1.000000          0.0          0.0          0.0          0.0  \n",
              "\n",
              "[2475 rows x 1910 columns]"
            ],
            "text/html": [
              "\n",
              "  <div id=\"df-f6b642c2-1394-4797-8346-56663d47d06f\">\n",
              "    <div class=\"colab-df-container\">\n",
              "      <div>\n",
              "<style scoped>\n",
              "    .dataframe tbody tr th:only-of-type {\n",
              "        vertical-align: middle;\n",
              "    }\n",
              "\n",
              "    .dataframe tbody tr th {\n",
              "        vertical-align: top;\n",
              "    }\n",
              "\n",
              "    .dataframe thead th {\n",
              "        text-align: right;\n",
              "    }\n",
              "</style>\n",
              "<table border=\"1\" class=\"dataframe\">\n",
              "  <thead>\n",
              "    <tr style=\"text-align: right;\">\n",
              "      <th></th>\n",
              "      <th>person_id</th>\n",
              "      <th>release_year</th>\n",
              "      <th>runtime</th>\n",
              "      <th>ohe__role_ACTOR</th>\n",
              "      <th>ohe__type_MOVIE</th>\n",
              "      <th>ohe__type_SHOW</th>\n",
              "      <th>tfid_t__10</th>\n",
              "      <th>tfid_t__12</th>\n",
              "      <th>tfid_t__1984</th>\n",
              "      <th>tfid_t__2001</th>\n",
              "      <th>...</th>\n",
              "      <th>tfid_pc__se</th>\n",
              "      <th>tfid_pc__sn</th>\n",
              "      <th>tfid_pc__su</th>\n",
              "      <th>tfid_pc__tr</th>\n",
              "      <th>tfid_pc__tw</th>\n",
              "      <th>tfid_pc__us</th>\n",
              "      <th>tfid_pc__uy</th>\n",
              "      <th>tfid_pc__xc</th>\n",
              "      <th>tfid_pc__xx</th>\n",
              "      <th>tfid_pc__za</th>\n",
              "    </tr>\n",
              "  </thead>\n",
              "  <tbody>\n",
              "    <tr>\n",
              "      <th>0</th>\n",
              "      <td>16019.0</td>\n",
              "      <td>1986.0</td>\n",
              "      <td>111.0</td>\n",
              "      <td>1.0</td>\n",
              "      <td>1.0</td>\n",
              "      <td>0.0</td>\n",
              "      <td>0.0</td>\n",
              "      <td>0.0</td>\n",
              "      <td>0.0</td>\n",
              "      <td>0.0</td>\n",
              "      <td>...</td>\n",
              "      <td>0.0</td>\n",
              "      <td>0.0</td>\n",
              "      <td>0.0</td>\n",
              "      <td>0.0</td>\n",
              "      <td>0.0</td>\n",
              "      <td>1.000000</td>\n",
              "      <td>0.0</td>\n",
              "      <td>0.0</td>\n",
              "      <td>0.0</td>\n",
              "      <td>0.0</td>\n",
              "    </tr>\n",
              "    <tr>\n",
              "      <th>1</th>\n",
              "      <td>125722.0</td>\n",
              "      <td>1953.0</td>\n",
              "      <td>94.0</td>\n",
              "      <td>1.0</td>\n",
              "      <td>1.0</td>\n",
              "      <td>0.0</td>\n",
              "      <td>0.0</td>\n",
              "      <td>0.0</td>\n",
              "      <td>0.0</td>\n",
              "      <td>0.0</td>\n",
              "      <td>...</td>\n",
              "      <td>0.0</td>\n",
              "      <td>0.0</td>\n",
              "      <td>0.0</td>\n",
              "      <td>0.0</td>\n",
              "      <td>0.0</td>\n",
              "      <td>0.000000</td>\n",
              "      <td>0.0</td>\n",
              "      <td>0.0</td>\n",
              "      <td>0.0</td>\n",
              "      <td>0.0</td>\n",
              "    </tr>\n",
              "    <tr>\n",
              "      <th>2</th>\n",
              "      <td>9739.0</td>\n",
              "      <td>2009.0</td>\n",
              "      <td>100.0</td>\n",
              "      <td>1.0</td>\n",
              "      <td>1.0</td>\n",
              "      <td>0.0</td>\n",
              "      <td>0.0</td>\n",
              "      <td>0.0</td>\n",
              "      <td>0.0</td>\n",
              "      <td>0.0</td>\n",
              "      <td>...</td>\n",
              "      <td>0.0</td>\n",
              "      <td>0.0</td>\n",
              "      <td>0.0</td>\n",
              "      <td>0.0</td>\n",
              "      <td>0.0</td>\n",
              "      <td>0.292857</td>\n",
              "      <td>0.0</td>\n",
              "      <td>0.0</td>\n",
              "      <td>0.0</td>\n",
              "      <td>0.0</td>\n",
              "    </tr>\n",
              "    <tr>\n",
              "      <th>3</th>\n",
              "      <td>153265.0</td>\n",
              "      <td>1939.0</td>\n",
              "      <td>83.0</td>\n",
              "      <td>1.0</td>\n",
              "      <td>1.0</td>\n",
              "      <td>0.0</td>\n",
              "      <td>0.0</td>\n",
              "      <td>0.0</td>\n",
              "      <td>0.0</td>\n",
              "      <td>0.0</td>\n",
              "      <td>...</td>\n",
              "      <td>0.0</td>\n",
              "      <td>0.0</td>\n",
              "      <td>0.0</td>\n",
              "      <td>0.0</td>\n",
              "      <td>0.0</td>\n",
              "      <td>1.000000</td>\n",
              "      <td>0.0</td>\n",
              "      <td>0.0</td>\n",
              "      <td>0.0</td>\n",
              "      <td>0.0</td>\n",
              "    </tr>\n",
              "    <tr>\n",
              "      <th>4</th>\n",
              "      <td>12018.0</td>\n",
              "      <td>2006.0</td>\n",
              "      <td>28.0</td>\n",
              "      <td>1.0</td>\n",
              "      <td>0.0</td>\n",
              "      <td>1.0</td>\n",
              "      <td>0.0</td>\n",
              "      <td>0.0</td>\n",
              "      <td>0.0</td>\n",
              "      <td>0.0</td>\n",
              "      <td>...</td>\n",
              "      <td>0.0</td>\n",
              "      <td>0.0</td>\n",
              "      <td>0.0</td>\n",
              "      <td>0.0</td>\n",
              "      <td>0.0</td>\n",
              "      <td>1.000000</td>\n",
              "      <td>0.0</td>\n",
              "      <td>0.0</td>\n",
              "      <td>0.0</td>\n",
              "      <td>0.0</td>\n",
              "    </tr>\n",
              "    <tr>\n",
              "      <th>...</th>\n",
              "      <td>...</td>\n",
              "      <td>...</td>\n",
              "      <td>...</td>\n",
              "      <td>...</td>\n",
              "      <td>...</td>\n",
              "      <td>...</td>\n",
              "      <td>...</td>\n",
              "      <td>...</td>\n",
              "      <td>...</td>\n",
              "      <td>...</td>\n",
              "      <td>...</td>\n",
              "      <td>...</td>\n",
              "      <td>...</td>\n",
              "      <td>...</td>\n",
              "      <td>...</td>\n",
              "      <td>...</td>\n",
              "      <td>...</td>\n",
              "      <td>...</td>\n",
              "      <td>...</td>\n",
              "      <td>...</td>\n",
              "      <td>...</td>\n",
              "    </tr>\n",
              "    <tr>\n",
              "      <th>2470</th>\n",
              "      <td>60089.0</td>\n",
              "      <td>2008.0</td>\n",
              "      <td>104.0</td>\n",
              "      <td>1.0</td>\n",
              "      <td>1.0</td>\n",
              "      <td>0.0</td>\n",
              "      <td>0.0</td>\n",
              "      <td>0.0</td>\n",
              "      <td>0.0</td>\n",
              "      <td>0.0</td>\n",
              "      <td>...</td>\n",
              "      <td>0.0</td>\n",
              "      <td>0.0</td>\n",
              "      <td>0.0</td>\n",
              "      <td>0.0</td>\n",
              "      <td>0.0</td>\n",
              "      <td>0.000000</td>\n",
              "      <td>0.0</td>\n",
              "      <td>0.0</td>\n",
              "      <td>0.0</td>\n",
              "      <td>0.0</td>\n",
              "    </tr>\n",
              "    <tr>\n",
              "      <th>2471</th>\n",
              "      <td>14142.0</td>\n",
              "      <td>2021.0</td>\n",
              "      <td>80.0</td>\n",
              "      <td>1.0</td>\n",
              "      <td>1.0</td>\n",
              "      <td>0.0</td>\n",
              "      <td>0.0</td>\n",
              "      <td>0.0</td>\n",
              "      <td>0.0</td>\n",
              "      <td>0.0</td>\n",
              "      <td>...</td>\n",
              "      <td>0.0</td>\n",
              "      <td>0.0</td>\n",
              "      <td>0.0</td>\n",
              "      <td>0.0</td>\n",
              "      <td>0.0</td>\n",
              "      <td>1.000000</td>\n",
              "      <td>0.0</td>\n",
              "      <td>0.0</td>\n",
              "      <td>0.0</td>\n",
              "      <td>0.0</td>\n",
              "    </tr>\n",
              "    <tr>\n",
              "      <th>2472</th>\n",
              "      <td>33873.0</td>\n",
              "      <td>1988.0</td>\n",
              "      <td>98.0</td>\n",
              "      <td>1.0</td>\n",
              "      <td>1.0</td>\n",
              "      <td>0.0</td>\n",
              "      <td>0.0</td>\n",
              "      <td>0.0</td>\n",
              "      <td>0.0</td>\n",
              "      <td>0.0</td>\n",
              "      <td>...</td>\n",
              "      <td>0.0</td>\n",
              "      <td>0.0</td>\n",
              "      <td>0.0</td>\n",
              "      <td>0.0</td>\n",
              "      <td>0.0</td>\n",
              "      <td>0.000000</td>\n",
              "      <td>0.0</td>\n",
              "      <td>0.0</td>\n",
              "      <td>0.0</td>\n",
              "      <td>0.0</td>\n",
              "    </tr>\n",
              "    <tr>\n",
              "      <th>2473</th>\n",
              "      <td>2889.0</td>\n",
              "      <td>2011.0</td>\n",
              "      <td>106.0</td>\n",
              "      <td>1.0</td>\n",
              "      <td>1.0</td>\n",
              "      <td>0.0</td>\n",
              "      <td>0.0</td>\n",
              "      <td>0.0</td>\n",
              "      <td>0.0</td>\n",
              "      <td>0.0</td>\n",
              "      <td>...</td>\n",
              "      <td>0.0</td>\n",
              "      <td>0.0</td>\n",
              "      <td>0.0</td>\n",
              "      <td>0.0</td>\n",
              "      <td>0.0</td>\n",
              "      <td>0.187247</td>\n",
              "      <td>0.0</td>\n",
              "      <td>0.0</td>\n",
              "      <td>0.0</td>\n",
              "      <td>0.0</td>\n",
              "    </tr>\n",
              "    <tr>\n",
              "      <th>2474</th>\n",
              "      <td>632392.0</td>\n",
              "      <td>2016.0</td>\n",
              "      <td>123.0</td>\n",
              "      <td>1.0</td>\n",
              "      <td>1.0</td>\n",
              "      <td>0.0</td>\n",
              "      <td>0.0</td>\n",
              "      <td>0.0</td>\n",
              "      <td>0.0</td>\n",
              "      <td>0.0</td>\n",
              "      <td>...</td>\n",
              "      <td>0.0</td>\n",
              "      <td>0.0</td>\n",
              "      <td>0.0</td>\n",
              "      <td>0.0</td>\n",
              "      <td>0.0</td>\n",
              "      <td>1.000000</td>\n",
              "      <td>0.0</td>\n",
              "      <td>0.0</td>\n",
              "      <td>0.0</td>\n",
              "      <td>0.0</td>\n",
              "    </tr>\n",
              "  </tbody>\n",
              "</table>\n",
              "<p>2475 rows × 1910 columns</p>\n",
              "</div>\n",
              "      <button class=\"colab-df-convert\" onclick=\"convertToInteractive('df-f6b642c2-1394-4797-8346-56663d47d06f')\"\n",
              "              title=\"Convert this dataframe to an interactive table.\"\n",
              "              style=\"display:none;\">\n",
              "        \n",
              "  <svg xmlns=\"http://www.w3.org/2000/svg\" height=\"24px\"viewBox=\"0 0 24 24\"\n",
              "       width=\"24px\">\n",
              "    <path d=\"M0 0h24v24H0V0z\" fill=\"none\"/>\n",
              "    <path d=\"M18.56 5.44l.94 2.06.94-2.06 2.06-.94-2.06-.94-.94-2.06-.94 2.06-2.06.94zm-11 1L8.5 8.5l.94-2.06 2.06-.94-2.06-.94L8.5 2.5l-.94 2.06-2.06.94zm10 10l.94 2.06.94-2.06 2.06-.94-2.06-.94-.94-2.06-.94 2.06-2.06.94z\"/><path d=\"M17.41 7.96l-1.37-1.37c-.4-.4-.92-.59-1.43-.59-.52 0-1.04.2-1.43.59L10.3 9.45l-7.72 7.72c-.78.78-.78 2.05 0 2.83L4 21.41c.39.39.9.59 1.41.59.51 0 1.02-.2 1.41-.59l7.78-7.78 2.81-2.81c.8-.78.8-2.07 0-2.86zM5.41 20L4 18.59l7.72-7.72 1.47 1.35L5.41 20z\"/>\n",
              "  </svg>\n",
              "      </button>\n",
              "      \n",
              "  <style>\n",
              "    .colab-df-container {\n",
              "      display:flex;\n",
              "      flex-wrap:wrap;\n",
              "      gap: 12px;\n",
              "    }\n",
              "\n",
              "    .colab-df-convert {\n",
              "      background-color: #E8F0FE;\n",
              "      border: none;\n",
              "      border-radius: 50%;\n",
              "      cursor: pointer;\n",
              "      display: none;\n",
              "      fill: #1967D2;\n",
              "      height: 32px;\n",
              "      padding: 0 0 0 0;\n",
              "      width: 32px;\n",
              "    }\n",
              "\n",
              "    .colab-df-convert:hover {\n",
              "      background-color: #E2EBFA;\n",
              "      box-shadow: 0px 1px 2px rgba(60, 64, 67, 0.3), 0px 1px 3px 1px rgba(60, 64, 67, 0.15);\n",
              "      fill: #174EA6;\n",
              "    }\n",
              "\n",
              "    [theme=dark] .colab-df-convert {\n",
              "      background-color: #3B4455;\n",
              "      fill: #D2E3FC;\n",
              "    }\n",
              "\n",
              "    [theme=dark] .colab-df-convert:hover {\n",
              "      background-color: #434B5C;\n",
              "      box-shadow: 0px 1px 3px 1px rgba(0, 0, 0, 0.15);\n",
              "      filter: drop-shadow(0px 1px 2px rgba(0, 0, 0, 0.3));\n",
              "      fill: #FFFFFF;\n",
              "    }\n",
              "  </style>\n",
              "\n",
              "      <script>\n",
              "        const buttonEl =\n",
              "          document.querySelector('#df-f6b642c2-1394-4797-8346-56663d47d06f button.colab-df-convert');\n",
              "        buttonEl.style.display =\n",
              "          google.colab.kernel.accessAllowed ? 'block' : 'none';\n",
              "\n",
              "        async function convertToInteractive(key) {\n",
              "          const element = document.querySelector('#df-f6b642c2-1394-4797-8346-56663d47d06f');\n",
              "          const dataTable =\n",
              "            await google.colab.kernel.invokeFunction('convertToInteractive',\n",
              "                                                     [key], {});\n",
              "          if (!dataTable) return;\n",
              "\n",
              "          const docLinkHtml = 'Like what you see? Visit the ' +\n",
              "            '<a target=\"_blank\" href=https://colab.research.google.com/notebooks/data_table.ipynb>data table notebook</a>'\n",
              "            + ' to learn more about interactive tables.';\n",
              "          element.innerHTML = '';\n",
              "          dataTable['output_type'] = 'display_data';\n",
              "          await google.colab.output.renderOutput(dataTable, element);\n",
              "          const docLink = document.createElement('div');\n",
              "          docLink.innerHTML = docLinkHtml;\n",
              "          element.appendChild(docLink);\n",
              "        }\n",
              "      </script>\n",
              "    </div>\n",
              "  </div>\n",
              "  "
            ]
          },
          "metadata": {},
          "execution_count": 354
        }
      ]
    },
    {
      "cell_type": "markdown",
      "source": [
        "# fdsafd"
      ],
      "metadata": {
        "id": "SkbcaU7xiJQ4"
      }
    },
    {
      "cell_type": "code",
      "source": [
        "# def mod_r2_score(y_test, preds, column):\n",
        "#   print(y_test[column], preds[column])\n",
        "#   return r2_score(y_test[column], preds[column])\n",
        "\n",
        "# mod_r2_score(y_test, preds, 'tmdb_popularity')"
      ],
      "metadata": {
        "colab": {
          "base_uri": "https://localhost:8080/"
        },
        "id": "gS70GpxAaPCv",
        "outputId": "1cb80a0f-5ded-4e0f-bf6f-1533f094c173"
      },
      "execution_count": 288,
      "outputs": [
        {
          "output_type": "stream",
          "name": "stdout",
          "text": [
            "31251    72.272\n",
            "60911    11.869\n",
            "691       8.294\n",
            "5251     13.802\n",
            "13054    11.923\n",
            "          ...  \n",
            "34916    36.169\n",
            "7729     13.161\n",
            "38227     5.583\n",
            "57256    30.184\n",
            "2251      5.420\n",
            "Name: tmdb_popularity, Length: 3714, dtype: float64 0       6.501381\n",
            "1       6.766617\n",
            "2       7.926925\n",
            "3       8.609810\n",
            "4       7.105972\n",
            "          ...   \n",
            "3709    6.306679\n",
            "3710    6.700394\n",
            "3711    5.395286\n",
            "3712    6.159080\n",
            "3713    7.291672\n",
            "Name: tmdb_popularity, Length: 3714, dtype: float64\n"
          ]
        },
        {
          "output_type": "execute_result",
          "data": {
            "text/plain": [
              "-5.140334297053516e+19"
            ]
          },
          "metadata": {},
          "execution_count": 288
        }
      ]
    },
    {
      "cell_type": "markdown",
      "source": [
        "# Deep Learning"
      ],
      "metadata": {
        "id": "WO5wtkib5cvp"
      }
    },
    {
      "cell_type": "code",
      "source": [
        ""
      ],
      "metadata": {
        "id": "-TO2AjhK0G0s"
      },
      "execution_count": null,
      "outputs": []
    }
  ],
  "metadata": {
    "interpreter": {
      "hash": "d1e6c26adc8bad395b004c18f56e59eec4f16088a73327fc7833d1c5c445ad10"
    },
    "kernelspec": {
      "display_name": "Python 3.9.12 ('DL_env')",
      "language": "python",
      "name": "python3"
    },
    "language_info": {
      "codemirror_mode": {
        "name": "ipython",
        "version": 3
      },
      "file_extension": ".py",
      "mimetype": "text/x-python",
      "name": "python",
      "nbconvert_exporter": "python",
      "pygments_lexer": "ipython3",
      "version": "3.9.12"
    },
    "orig_nbformat": 4,
    "colab": {
      "name": "model_3.ipynb",
      "provenance": [],
      "collapsed_sections": [
        "agvP1zWtc8Gp",
        "SkbcaU7xiJQ4"
      ],
      "machine_shape": "hm",
      "background_execution": "on"
    },
    "accelerator": "GPU"
  },
  "nbformat": 4,
  "nbformat_minor": 0
}